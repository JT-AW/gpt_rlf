{
 "cells": [
  {
   "cell_type": "code",
   "execution_count": 5,
   "id": "8ad44ff6",
   "metadata": {},
   "outputs": [],
   "source": [
    "import pandas as pd, plotly as ply, numpy as np, os"
   ]
  },
  {
   "cell_type": "code",
   "execution_count": 10,
   "id": "6905567b",
   "metadata": {},
   "outputs": [],
   "source": [
    "from datasets import load_dataset, load_dataset_builder"
   ]
  },
  {
   "cell_type": "code",
   "execution_count": 13,
   "id": "a9b5071c",
   "metadata": {},
   "outputs": [],
   "source": [
    "ds_builder = load_dataset_builder(\"openai/summarize_from_feedback\", \"comparisons\")"
   ]
  },
  {
   "cell_type": "code",
   "execution_count": 14,
   "id": "bab1798f",
   "metadata": {},
   "outputs": [
    {
     "data": {
      "text/plain": [
       "'Summarize from Feedback contains the human feedback data released by the \"Learning to summarize from human feedback\" paper.\\n'"
      ]
     },
     "execution_count": 14,
     "metadata": {},
     "output_type": "execute_result"
    }
   ],
   "source": [
    "ds_builder.info.description"
   ]
  },
  {
   "cell_type": "code",
   "execution_count": 15,
   "id": "83b8abc2",
   "metadata": {},
   "outputs": [
    {
     "data": {
      "text/plain": [
       "{'info': {'id': Value(dtype='string', id=None),\n",
       "  'post': Value(dtype='string', id=None),\n",
       "  'title': Value(dtype='string', id=None),\n",
       "  'subreddit': Value(dtype='string', id=None),\n",
       "  'site': Value(dtype='string', id=None),\n",
       "  'article': Value(dtype='string', id=None)},\n",
       " 'summaries': [{'text': Value(dtype='string', id=None),\n",
       "   'policy': Value(dtype='string', id=None),\n",
       "   'note': Value(dtype='string', id=None)}],\n",
       " 'choice': Value(dtype='int32', id=None),\n",
       " 'worker': Value(dtype='string', id=None),\n",
       " 'batch': Value(dtype='string', id=None),\n",
       " 'split': Value(dtype='string', id=None),\n",
       " 'extra': {'confidence': Value(dtype='int32', id=None)}}"
      ]
     },
     "execution_count": 15,
     "metadata": {},
     "output_type": "execute_result"
    }
   ],
   "source": [
    "ds_builder.info.features"
   ]
  },
  {
   "cell_type": "code",
   "execution_count": 16,
   "id": "a93b6392",
   "metadata": {},
   "outputs": [
    {
     "name": "stdout",
     "output_type": "stream",
     "text": [
      "Downloading and preparing dataset summarize_from_feedback/comparisons to /Users/johnwang/.cache/huggingface/datasets/openai___summarize_from_feedback/comparisons/0.0.0/483f970ceb55b926b0a087ef4f678ab1b089bc8174a107a452c6152e88af7ff0...\n"
     ]
    },
    {
     "data": {
      "application/vnd.jupyter.widget-view+json": {
       "model_id": "da5b0625589e4daea691df2a2a534998",
       "version_major": 2,
       "version_minor": 0
      },
      "text/plain": [
       "Downloading data files:   0%|          | 0/23 [00:00<?, ?it/s]"
      ]
     },
     "metadata": {},
     "output_type": "display_data"
    },
    {
     "data": {
      "application/vnd.jupyter.widget-view+json": {
       "model_id": "1d5a2febcdf441919deb14521f4ef3b1",
       "version_major": 2,
       "version_minor": 0
      },
      "text/plain": [
       "Downloading data:   0%|          | 0.00/29.7M [00:00<?, ?B/s]"
      ]
     },
     "metadata": {},
     "output_type": "display_data"
    },
    {
     "data": {
      "application/vnd.jupyter.widget-view+json": {
       "model_id": "ff9d13bdd3e54d1ba85c4be5bfeb04f6",
       "version_major": 2,
       "version_minor": 0
      },
      "text/plain": [
       "Downloading data:   0%|          | 0.00/9.11M [00:00<?, ?B/s]"
      ]
     },
     "metadata": {},
     "output_type": "display_data"
    },
    {
     "data": {
      "application/vnd.jupyter.widget-view+json": {
       "model_id": "e1314a2213fb4a578473b2c01f931872",
       "version_major": 2,
       "version_minor": 0
      },
      "text/plain": [
       "Downloading data:   0%|          | 0.00/55.2M [00:00<?, ?B/s]"
      ]
     },
     "metadata": {},
     "output_type": "display_data"
    },
    {
     "data": {
      "application/vnd.jupyter.widget-view+json": {
       "model_id": "61d8f916f13840d09b962f3c8a8498c8",
       "version_major": 2,
       "version_minor": 0
      },
      "text/plain": [
       "Downloading data:   0%|          | 0.00/46.0M [00:00<?, ?B/s]"
      ]
     },
     "metadata": {},
     "output_type": "display_data"
    },
    {
     "data": {
      "application/vnd.jupyter.widget-view+json": {
       "model_id": "773a5719461d4712a937fc574f63e5a4",
       "version_major": 2,
       "version_minor": 0
      },
      "text/plain": [
       "Downloading data:   0%|          | 0.00/25.2M [00:00<?, ?B/s]"
      ]
     },
     "metadata": {},
     "output_type": "display_data"
    },
    {
     "data": {
      "application/vnd.jupyter.widget-view+json": {
       "model_id": "fd0e13bd600e4a59b7b2b14a2ffa9161",
       "version_major": 2,
       "version_minor": 0
      },
      "text/plain": [
       "Downloading data:   0%|          | 0.00/18.9M [00:00<?, ?B/s]"
      ]
     },
     "metadata": {},
     "output_type": "display_data"
    },
    {
     "data": {
      "application/vnd.jupyter.widget-view+json": {
       "model_id": "29842b97cea44bd283f83d48c15f7146",
       "version_major": 2,
       "version_minor": 0
      },
      "text/plain": [
       "Downloading data:   0%|          | 0.00/2.32M [00:00<?, ?B/s]"
      ]
     },
     "metadata": {},
     "output_type": "display_data"
    },
    {
     "data": {
      "application/vnd.jupyter.widget-view+json": {
       "model_id": "b458260d88634968ae4a932725a0e2ff",
       "version_major": 2,
       "version_minor": 0
      },
      "text/plain": [
       "Downloading data:   0%|          | 0.00/8.72M [00:00<?, ?B/s]"
      ]
     },
     "metadata": {},
     "output_type": "display_data"
    },
    {
     "data": {
      "application/vnd.jupyter.widget-view+json": {
       "model_id": "866304dd72024d9ba23448b33d5b59ce",
       "version_major": 2,
       "version_minor": 0
      },
      "text/plain": [
       "Downloading data:   0%|          | 0.00/15.3M [00:00<?, ?B/s]"
      ]
     },
     "metadata": {},
     "output_type": "display_data"
    },
    {
     "data": {
      "application/vnd.jupyter.widget-view+json": {
       "model_id": "e97911659f3241bfa9b5e27624c7753e",
       "version_major": 2,
       "version_minor": 0
      },
      "text/plain": [
       "Downloading data:   0%|          | 0.00/10.4M [00:00<?, ?B/s]"
      ]
     },
     "metadata": {},
     "output_type": "display_data"
    },
    {
     "data": {
      "application/vnd.jupyter.widget-view+json": {
       "model_id": "8d3cb24881ce47f5890517701858f208",
       "version_major": 2,
       "version_minor": 0
      },
      "text/plain": [
       "Downloading data:   0%|          | 0.00/5.56M [00:00<?, ?B/s]"
      ]
     },
     "metadata": {},
     "output_type": "display_data"
    },
    {
     "data": {
      "application/vnd.jupyter.widget-view+json": {
       "model_id": "3b97d9c339094fbd8ba666a03fe56cec",
       "version_major": 2,
       "version_minor": 0
      },
      "text/plain": [
       "Downloading data:   0%|          | 0.00/1.36M [00:00<?, ?B/s]"
      ]
     },
     "metadata": {},
     "output_type": "display_data"
    },
    {
     "data": {
      "application/vnd.jupyter.widget-view+json": {
       "model_id": "1b836d3b44cf4b9889c78083b086372c",
       "version_major": 2,
       "version_minor": 0
      },
      "text/plain": [
       "Downloading data:   0%|          | 0.00/6.69M [00:00<?, ?B/s]"
      ]
     },
     "metadata": {},
     "output_type": "display_data"
    },
    {
     "data": {
      "application/vnd.jupyter.widget-view+json": {
       "model_id": "145b4db65c9742bba6897a922887c451",
       "version_major": 2,
       "version_minor": 0
      },
      "text/plain": [
       "Downloading data:   0%|          | 0.00/29.9M [00:00<?, ?B/s]"
      ]
     },
     "metadata": {},
     "output_type": "display_data"
    },
    {
     "data": {
      "application/vnd.jupyter.widget-view+json": {
       "model_id": "3e4f1b80d9064c26aaa2cfac7bfdc1de",
       "version_major": 2,
       "version_minor": 0
      },
      "text/plain": [
       "Downloading data:   0%|          | 0.00/27.9M [00:00<?, ?B/s]"
      ]
     },
     "metadata": {},
     "output_type": "display_data"
    },
    {
     "data": {
      "application/vnd.jupyter.widget-view+json": {
       "model_id": "bf4be0156e9d4ad999f20a53cc0b8b5a",
       "version_major": 2,
       "version_minor": 0
      },
      "text/plain": [
       "Downloading data:   0%|          | 0.00/28.6M [00:00<?, ?B/s]"
      ]
     },
     "metadata": {},
     "output_type": "display_data"
    },
    {
     "data": {
      "application/vnd.jupyter.widget-view+json": {
       "model_id": "f73e730a13694366818aa144d1591f68",
       "version_major": 2,
       "version_minor": 0
      },
      "text/plain": [
       "Downloading data:   0%|          | 0.00/15.4M [00:00<?, ?B/s]"
      ]
     },
     "metadata": {},
     "output_type": "display_data"
    },
    {
     "data": {
      "application/vnd.jupyter.widget-view+json": {
       "model_id": "6a9ba9e34a2b49e89e4d416263399b6c",
       "version_major": 2,
       "version_minor": 0
      },
      "text/plain": [
       "Downloading data:   0%|          | 0.00/18.1M [00:00<?, ?B/s]"
      ]
     },
     "metadata": {},
     "output_type": "display_data"
    },
    {
     "data": {
      "application/vnd.jupyter.widget-view+json": {
       "model_id": "ead218b232974c599f4ea4d1df1dad8c",
       "version_major": 2,
       "version_minor": 0
      },
      "text/plain": [
       "Downloading data:   0%|          | 0.00/9.64M [00:00<?, ?B/s]"
      ]
     },
     "metadata": {},
     "output_type": "display_data"
    },
    {
     "data": {
      "application/vnd.jupyter.widget-view+json": {
       "model_id": "e37a4d2e1fa245769d9de310f80cbc02",
       "version_major": 2,
       "version_minor": 0
      },
      "text/plain": [
       "Downloading data:   0%|          | 0.00/2.19M [00:00<?, ?B/s]"
      ]
     },
     "metadata": {},
     "output_type": "display_data"
    },
    {
     "data": {
      "application/vnd.jupyter.widget-view+json": {
       "model_id": "d7ab5c64f4a449d4bbc7523fe8b0e32c",
       "version_major": 2,
       "version_minor": 0
      },
      "text/plain": [
       "Downloading data:   0%|          | 0.00/2.18M [00:00<?, ?B/s]"
      ]
     },
     "metadata": {},
     "output_type": "display_data"
    },
    {
     "data": {
      "application/vnd.jupyter.widget-view+json": {
       "model_id": "4d8214978a134237a29d8375c810cd76",
       "version_major": 2,
       "version_minor": 0
      },
      "text/plain": [
       "Downloading data:   0%|          | 0.00/6.00M [00:00<?, ?B/s]"
      ]
     },
     "metadata": {},
     "output_type": "display_data"
    },
    {
     "data": {
      "application/vnd.jupyter.widget-view+json": {
       "model_id": "77ad5d91c9ea45e59e4b2a0a2abdf646",
       "version_major": 2,
       "version_minor": 0
      },
      "text/plain": [
       "Downloading data:   0%|          | 0.00/10.1k [00:00<?, ?B/s]"
      ]
     },
     "metadata": {},
     "output_type": "display_data"
    },
    {
     "data": {
      "application/vnd.jupyter.widget-view+json": {
       "model_id": "5e3a809710064ecc8df7ebd576448920",
       "version_major": 2,
       "version_minor": 0
      },
      "text/plain": [
       "Extracting data files:   0%|          | 0/23 [00:00<?, ?it/s]"
      ]
     },
     "metadata": {},
     "output_type": "display_data"
    },
    {
     "data": {
      "application/vnd.jupyter.widget-view+json": {
       "model_id": "",
       "version_major": 2,
       "version_minor": 0
      },
      "text/plain": [
       "Generating train split: 0 examples [00:00, ? examples/s]"
      ]
     },
     "metadata": {},
     "output_type": "display_data"
    },
    {
     "data": {
      "application/vnd.jupyter.widget-view+json": {
       "model_id": "",
       "version_major": 2,
       "version_minor": 0
      },
      "text/plain": [
       "Generating validation split: 0 examples [00:00, ? examples/s]"
      ]
     },
     "metadata": {},
     "output_type": "display_data"
    },
    {
     "name": "stdout",
     "output_type": "stream",
     "text": [
      "Dataset summarize_from_feedback downloaded and prepared to /Users/johnwang/.cache/huggingface/datasets/openai___summarize_from_feedback/comparisons/0.0.0/483f970ceb55b926b0a087ef4f678ab1b089bc8174a107a452c6152e88af7ff0. Subsequent calls will reuse this data.\n"
     ]
    }
   ],
   "source": [
    "train_data = load_dataset('openai/summarize_from_feedback', \"comparisons\", split ='train[0:500]')"
   ]
  },
  {
   "cell_type": "code",
   "execution_count": 17,
   "id": "6f34c70c",
   "metadata": {},
   "outputs": [
    {
     "data": {
      "text/plain": [
       "Dataset({\n",
       "    features: ['info', 'summaries', 'choice', 'worker', 'batch', 'split', 'extra'],\n",
       "    num_rows: 500\n",
       "})"
      ]
     },
     "execution_count": 17,
     "metadata": {},
     "output_type": "execute_result"
    }
   ],
   "source": [
    "train_data"
   ]
  },
  {
   "cell_type": "code",
   "execution_count": 33,
   "id": "22713101",
   "metadata": {},
   "outputs": [],
   "source": [
    "df = train_data.to_pandas()"
   ]
  },
  {
   "cell_type": "code",
   "execution_count": 34,
   "id": "c7d36633",
   "metadata": {},
   "outputs": [
    {
     "data": {
      "text/html": [
       "<div>\n",
       "<style scoped>\n",
       "    .dataframe tbody tr th:only-of-type {\n",
       "        vertical-align: middle;\n",
       "    }\n",
       "\n",
       "    .dataframe tbody tr th {\n",
       "        vertical-align: top;\n",
       "    }\n",
       "\n",
       "    .dataframe thead th {\n",
       "        text-align: right;\n",
       "    }\n",
       "</style>\n",
       "<table border=\"1\" class=\"dataframe\">\n",
       "  <thead>\n",
       "    <tr style=\"text-align: right;\">\n",
       "      <th></th>\n",
       "      <th>info</th>\n",
       "      <th>summaries</th>\n",
       "      <th>choice</th>\n",
       "      <th>worker</th>\n",
       "      <th>batch</th>\n",
       "      <th>split</th>\n",
       "      <th>extra</th>\n",
       "    </tr>\n",
       "  </thead>\n",
       "  <tbody>\n",
       "    <tr>\n",
       "      <th>0</th>\n",
       "      <td>{'id': 't3_34xale', 'post': 'My boyfriend and ...</td>\n",
       "      <td>[{'text': ' Mum is mad at me for not flying on...</td>\n",
       "      <td>1</td>\n",
       "      <td>qo6WIyEh27cwAjWpA3Q60J7NaDxzQJ</td>\n",
       "      <td>batch3</td>\n",
       "      <td>train</td>\n",
       "      <td>{'confidence': None}</td>\n",
       "    </tr>\n",
       "    <tr>\n",
       "      <th>1</th>\n",
       "      <td>{'id': 't3_34xale', 'post': 'My boyfriend and ...</td>\n",
       "      <td>[{'text': ' I have made sure my mother is comf...</td>\n",
       "      <td>1</td>\n",
       "      <td>qo6WIyEh27cwAjWpA3Q60J7NaDxzQJ</td>\n",
       "      <td>batch3</td>\n",
       "      <td>train</td>\n",
       "      <td>{'confidence': None}</td>\n",
       "    </tr>\n",
       "    <tr>\n",
       "      <th>2</th>\n",
       "      <td>{'id': 't3_34xale', 'post': 'My boyfriend and ...</td>\n",
       "      <td>[{'text': ' mum isn't speaking to me because I...</td>\n",
       "      <td>0</td>\n",
       "      <td>qo6WIyEh27cwAjWpA3Q60J7NaDxzQJ</td>\n",
       "      <td>batch3</td>\n",
       "      <td>train</td>\n",
       "      <td>{'confidence': None}</td>\n",
       "    </tr>\n",
       "    <tr>\n",
       "      <th>3</th>\n",
       "      <td>{'id': 't3_34xale', 'post': 'My boyfriend and ...</td>\n",
       "      <td>[{'text': ' Mum thought I was going to road tr...</td>\n",
       "      <td>0</td>\n",
       "      <td>qo6WIyEh27cwAjWpA3Q60J7NaDxzQJ</td>\n",
       "      <td>batch3</td>\n",
       "      <td>train</td>\n",
       "      <td>{'confidence': None}</td>\n",
       "    </tr>\n",
       "    <tr>\n",
       "      <th>4</th>\n",
       "      <td>{'id': 't3_1zwek5', 'post': 'My landlord left ...</td>\n",
       "      <td>[{'text': ' My landlord is harassing me and my...</td>\n",
       "      <td>1</td>\n",
       "      <td>LjvoXOAj5op3WqNnn5b7TZTG8mK7gM</td>\n",
       "      <td>batch3</td>\n",
       "      <td>train</td>\n",
       "      <td>{'confidence': None}</td>\n",
       "    </tr>\n",
       "  </tbody>\n",
       "</table>\n",
       "</div>"
      ],
      "text/plain": [
       "                                                info  \\\n",
       "0  {'id': 't3_34xale', 'post': 'My boyfriend and ...   \n",
       "1  {'id': 't3_34xale', 'post': 'My boyfriend and ...   \n",
       "2  {'id': 't3_34xale', 'post': 'My boyfriend and ...   \n",
       "3  {'id': 't3_34xale', 'post': 'My boyfriend and ...   \n",
       "4  {'id': 't3_1zwek5', 'post': 'My landlord left ...   \n",
       "\n",
       "                                           summaries  choice  \\\n",
       "0  [{'text': ' Mum is mad at me for not flying on...       1   \n",
       "1  [{'text': ' I have made sure my mother is comf...       1   \n",
       "2  [{'text': ' mum isn't speaking to me because I...       0   \n",
       "3  [{'text': ' Mum thought I was going to road tr...       0   \n",
       "4  [{'text': ' My landlord is harassing me and my...       1   \n",
       "\n",
       "                           worker   batch  split                 extra  \n",
       "0  qo6WIyEh27cwAjWpA3Q60J7NaDxzQJ  batch3  train  {'confidence': None}  \n",
       "1  qo6WIyEh27cwAjWpA3Q60J7NaDxzQJ  batch3  train  {'confidence': None}  \n",
       "2  qo6WIyEh27cwAjWpA3Q60J7NaDxzQJ  batch3  train  {'confidence': None}  \n",
       "3  qo6WIyEh27cwAjWpA3Q60J7NaDxzQJ  batch3  train  {'confidence': None}  \n",
       "4  LjvoXOAj5op3WqNnn5b7TZTG8mK7gM  batch3  train  {'confidence': None}  "
      ]
     },
     "execution_count": 34,
     "metadata": {},
     "output_type": "execute_result"
    }
   ],
   "source": [
    "df.head()"
   ]
  },
  {
   "cell_type": "code",
   "execution_count": 35,
   "id": "efb1db40",
   "metadata": {},
   "outputs": [
    {
     "data": {
      "text/plain": [
       "(500, 7)"
      ]
     },
     "execution_count": 35,
     "metadata": {},
     "output_type": "execute_result"
    }
   ],
   "source": [
    "df[df['split']=='train'].shape"
   ]
  },
  {
   "cell_type": "code",
   "execution_count": 36,
   "id": "be32c357",
   "metadata": {},
   "outputs": [],
   "source": [
    "df = df.drop([\"batch\", \"split\", \"extra\", \"worker\"], axis=\"columns\")"
   ]
  },
  {
   "cell_type": "code",
   "execution_count": 37,
   "id": "b9f40824",
   "metadata": {},
   "outputs": [
    {
     "data": {
      "text/html": [
       "<div>\n",
       "<style scoped>\n",
       "    .dataframe tbody tr th:only-of-type {\n",
       "        vertical-align: middle;\n",
       "    }\n",
       "\n",
       "    .dataframe tbody tr th {\n",
       "        vertical-align: top;\n",
       "    }\n",
       "\n",
       "    .dataframe thead th {\n",
       "        text-align: right;\n",
       "    }\n",
       "</style>\n",
       "<table border=\"1\" class=\"dataframe\">\n",
       "  <thead>\n",
       "    <tr style=\"text-align: right;\">\n",
       "      <th></th>\n",
       "      <th>info</th>\n",
       "      <th>summaries</th>\n",
       "      <th>choice</th>\n",
       "    </tr>\n",
       "  </thead>\n",
       "  <tbody>\n",
       "    <tr>\n",
       "      <th>0</th>\n",
       "      <td>{'id': 't3_34xale', 'post': 'My boyfriend and ...</td>\n",
       "      <td>[{'text': ' Mum is mad at me for not flying on...</td>\n",
       "      <td>1</td>\n",
       "    </tr>\n",
       "    <tr>\n",
       "      <th>1</th>\n",
       "      <td>{'id': 't3_34xale', 'post': 'My boyfriend and ...</td>\n",
       "      <td>[{'text': ' I have made sure my mother is comf...</td>\n",
       "      <td>1</td>\n",
       "    </tr>\n",
       "    <tr>\n",
       "      <th>2</th>\n",
       "      <td>{'id': 't3_34xale', 'post': 'My boyfriend and ...</td>\n",
       "      <td>[{'text': ' mum isn't speaking to me because I...</td>\n",
       "      <td>0</td>\n",
       "    </tr>\n",
       "    <tr>\n",
       "      <th>3</th>\n",
       "      <td>{'id': 't3_34xale', 'post': 'My boyfriend and ...</td>\n",
       "      <td>[{'text': ' Mum thought I was going to road tr...</td>\n",
       "      <td>0</td>\n",
       "    </tr>\n",
       "    <tr>\n",
       "      <th>4</th>\n",
       "      <td>{'id': 't3_1zwek5', 'post': 'My landlord left ...</td>\n",
       "      <td>[{'text': ' My landlord is harassing me and my...</td>\n",
       "      <td>1</td>\n",
       "    </tr>\n",
       "  </tbody>\n",
       "</table>\n",
       "</div>"
      ],
      "text/plain": [
       "                                                info  \\\n",
       "0  {'id': 't3_34xale', 'post': 'My boyfriend and ...   \n",
       "1  {'id': 't3_34xale', 'post': 'My boyfriend and ...   \n",
       "2  {'id': 't3_34xale', 'post': 'My boyfriend and ...   \n",
       "3  {'id': 't3_34xale', 'post': 'My boyfriend and ...   \n",
       "4  {'id': 't3_1zwek5', 'post': 'My landlord left ...   \n",
       "\n",
       "                                           summaries  choice  \n",
       "0  [{'text': ' Mum is mad at me for not flying on...       1  \n",
       "1  [{'text': ' I have made sure my mother is comf...       1  \n",
       "2  [{'text': ' mum isn't speaking to me because I...       0  \n",
       "3  [{'text': ' Mum thought I was going to road tr...       0  \n",
       "4  [{'text': ' My landlord is harassing me and my...       1  "
      ]
     },
     "execution_count": 37,
     "metadata": {},
     "output_type": "execute_result"
    }
   ],
   "source": [
    "df.head()"
   ]
  },
  {
   "cell_type": "code",
   "execution_count": 38,
   "id": "27769fdb",
   "metadata": {},
   "outputs": [
    {
     "data": {
      "text/plain": [
       "array([{'text': ' Mum is mad at me for not flying on my own trip to meet my boyfriend.', 'policy': 'sup1', 'note': None},\n",
       "       {'text': ' I have made sure my mother is comfortable with my boyfriend travelling on a trip and now my mother is mad because I booked it.', 'policy': 'sup1', 'note': None}],\n",
       "      dtype=object)"
      ]
     },
     "execution_count": 38,
     "metadata": {},
     "output_type": "execute_result"
    }
   ],
   "source": [
    "df[\"summaries\"][0]"
   ]
  },
  {
   "cell_type": "code",
   "execution_count": 46,
   "id": "415fc8ad",
   "metadata": {},
   "outputs": [],
   "source": [
    "df['post'] = df['info'].str['post']\n",
    "df['title'] = df['info'].str['title']\n",
    "df['subreddit'] = df['info'].str['subreddit']"
   ]
  },
  {
   "cell_type": "code",
   "execution_count": 47,
   "id": "db3de36b",
   "metadata": {},
   "outputs": [
    {
     "data": {
      "text/html": [
       "<div>\n",
       "<style scoped>\n",
       "    .dataframe tbody tr th:only-of-type {\n",
       "        vertical-align: middle;\n",
       "    }\n",
       "\n",
       "    .dataframe tbody tr th {\n",
       "        vertical-align: top;\n",
       "    }\n",
       "\n",
       "    .dataframe thead th {\n",
       "        text-align: right;\n",
       "    }\n",
       "</style>\n",
       "<table border=\"1\" class=\"dataframe\">\n",
       "  <thead>\n",
       "    <tr style=\"text-align: right;\">\n",
       "      <th></th>\n",
       "      <th>info</th>\n",
       "      <th>summaries</th>\n",
       "      <th>choice</th>\n",
       "      <th>prompt</th>\n",
       "      <th>post</th>\n",
       "      <th>title</th>\n",
       "      <th>subreddit</th>\n",
       "    </tr>\n",
       "  </thead>\n",
       "  <tbody>\n",
       "    <tr>\n",
       "      <th>0</th>\n",
       "      <td>{'id': 't3_34xale', 'post': 'My boyfriend and ...</td>\n",
       "      <td>[{'text': ' Mum is mad at me for not flying on...</td>\n",
       "      <td>1</td>\n",
       "      <td>None</td>\n",
       "      <td>My boyfriend and I are long distance. We have ...</td>\n",
       "      <td>Mother [51] not speaking to me [21] because of...</td>\n",
       "      <td>relationships</td>\n",
       "    </tr>\n",
       "    <tr>\n",
       "      <th>1</th>\n",
       "      <td>{'id': 't3_34xale', 'post': 'My boyfriend and ...</td>\n",
       "      <td>[{'text': ' I have made sure my mother is comf...</td>\n",
       "      <td>1</td>\n",
       "      <td>None</td>\n",
       "      <td>My boyfriend and I are long distance. We have ...</td>\n",
       "      <td>Mother [51] not speaking to me [21] because of...</td>\n",
       "      <td>relationships</td>\n",
       "    </tr>\n",
       "    <tr>\n",
       "      <th>2</th>\n",
       "      <td>{'id': 't3_34xale', 'post': 'My boyfriend and ...</td>\n",
       "      <td>[{'text': ' mum isn't speaking to me because I...</td>\n",
       "      <td>0</td>\n",
       "      <td>None</td>\n",
       "      <td>My boyfriend and I are long distance. We have ...</td>\n",
       "      <td>Mother [51] not speaking to me [21] because of...</td>\n",
       "      <td>relationships</td>\n",
       "    </tr>\n",
       "    <tr>\n",
       "      <th>3</th>\n",
       "      <td>{'id': 't3_34xale', 'post': 'My boyfriend and ...</td>\n",
       "      <td>[{'text': ' Mum thought I was going to road tr...</td>\n",
       "      <td>0</td>\n",
       "      <td>None</td>\n",
       "      <td>My boyfriend and I are long distance. We have ...</td>\n",
       "      <td>Mother [51] not speaking to me [21] because of...</td>\n",
       "      <td>relationships</td>\n",
       "    </tr>\n",
       "    <tr>\n",
       "      <th>4</th>\n",
       "      <td>{'id': 't3_1zwek5', 'post': 'My landlord left ...</td>\n",
       "      <td>[{'text': ' My landlord is harassing me and my...</td>\n",
       "      <td>1</td>\n",
       "      <td>None</td>\n",
       "      <td>My landlord left a falsified message taped to ...</td>\n",
       "      <td>Can I sue my property management company and l...</td>\n",
       "      <td>AskReddit</td>\n",
       "    </tr>\n",
       "    <tr>\n",
       "      <th>...</th>\n",
       "      <td>...</td>\n",
       "      <td>...</td>\n",
       "      <td>...</td>\n",
       "      <td>...</td>\n",
       "      <td>...</td>\n",
       "      <td>...</td>\n",
       "      <td>...</td>\n",
       "    </tr>\n",
       "    <tr>\n",
       "      <th>495</th>\n",
       "      <td>{'id': 't3_27uaof', 'post': 'Yo, so me and my ...</td>\n",
       "      <td>[{'text': ' My friend and I talked for a few h...</td>\n",
       "      <td>0</td>\n",
       "      <td>None</td>\n",
       "      <td>Yo, so me and my friend were texting for LITER...</td>\n",
       "      <td>Me [16 M] with my friend [16 F] Just got cold-...</td>\n",
       "      <td>relationships</td>\n",
       "    </tr>\n",
       "    <tr>\n",
       "      <th>496</th>\n",
       "      <td>{'id': 't3_27uaof', 'post': 'Yo, so me and my ...</td>\n",
       "      <td>[{'text': ' Texted my friend for 7 hours a nig...</td>\n",
       "      <td>0</td>\n",
       "      <td>None</td>\n",
       "      <td>Yo, so me and my friend were texting for LITER...</td>\n",
       "      <td>Me [16 M] with my friend [16 F] Just got cold-...</td>\n",
       "      <td>relationships</td>\n",
       "    </tr>\n",
       "    <tr>\n",
       "      <th>497</th>\n",
       "      <td>{'id': 't3_27uaof', 'post': 'Yo, so me and my ...</td>\n",
       "      <td>[{'text': ' I texted my girl for 8 hours and n...</td>\n",
       "      <td>1</td>\n",
       "      <td>None</td>\n",
       "      <td>Yo, so me and my friend were texting for LITER...</td>\n",
       "      <td>Me [16 M] with my friend [16 F] Just got cold-...</td>\n",
       "      <td>relationships</td>\n",
       "    </tr>\n",
       "    <tr>\n",
       "      <th>498</th>\n",
       "      <td>{'id': 't3_27uaof', 'post': 'Yo, so me and my ...</td>\n",
       "      <td>[{'text': ' I have been texting for 8 hours, b...</td>\n",
       "      <td>0</td>\n",
       "      <td>None</td>\n",
       "      <td>Yo, so me and my friend were texting for LITER...</td>\n",
       "      <td>Me [16 M] with my friend [16 F] Just got cold-...</td>\n",
       "      <td>relationships</td>\n",
       "    </tr>\n",
       "    <tr>\n",
       "      <th>499</th>\n",
       "      <td>{'id': 't3_chk3g', 'post': 'Today was my first...</td>\n",
       "      <td>[{'text': ' My boss pulled up her blouse and p...</td>\n",
       "      <td>1</td>\n",
       "      <td>None</td>\n",
       "      <td>Today was my first day of work and I had spent...</td>\n",
       "      <td>First day of work, 3rd boss thinks im a perv.</td>\n",
       "      <td>AskReddit</td>\n",
       "    </tr>\n",
       "  </tbody>\n",
       "</table>\n",
       "<p>500 rows × 7 columns</p>\n",
       "</div>"
      ],
      "text/plain": [
       "                                                  info  \\\n",
       "0    {'id': 't3_34xale', 'post': 'My boyfriend and ...   \n",
       "1    {'id': 't3_34xale', 'post': 'My boyfriend and ...   \n",
       "2    {'id': 't3_34xale', 'post': 'My boyfriend and ...   \n",
       "3    {'id': 't3_34xale', 'post': 'My boyfriend and ...   \n",
       "4    {'id': 't3_1zwek5', 'post': 'My landlord left ...   \n",
       "..                                                 ...   \n",
       "495  {'id': 't3_27uaof', 'post': 'Yo, so me and my ...   \n",
       "496  {'id': 't3_27uaof', 'post': 'Yo, so me and my ...   \n",
       "497  {'id': 't3_27uaof', 'post': 'Yo, so me and my ...   \n",
       "498  {'id': 't3_27uaof', 'post': 'Yo, so me and my ...   \n",
       "499  {'id': 't3_chk3g', 'post': 'Today was my first...   \n",
       "\n",
       "                                             summaries  choice prompt  \\\n",
       "0    [{'text': ' Mum is mad at me for not flying on...       1   None   \n",
       "1    [{'text': ' I have made sure my mother is comf...       1   None   \n",
       "2    [{'text': ' mum isn't speaking to me because I...       0   None   \n",
       "3    [{'text': ' Mum thought I was going to road tr...       0   None   \n",
       "4    [{'text': ' My landlord is harassing me and my...       1   None   \n",
       "..                                                 ...     ...    ...   \n",
       "495  [{'text': ' My friend and I talked for a few h...       0   None   \n",
       "496  [{'text': ' Texted my friend for 7 hours a nig...       0   None   \n",
       "497  [{'text': ' I texted my girl for 8 hours and n...       1   None   \n",
       "498  [{'text': ' I have been texting for 8 hours, b...       0   None   \n",
       "499  [{'text': ' My boss pulled up her blouse and p...       1   None   \n",
       "\n",
       "                                                  post  \\\n",
       "0    My boyfriend and I are long distance. We have ...   \n",
       "1    My boyfriend and I are long distance. We have ...   \n",
       "2    My boyfriend and I are long distance. We have ...   \n",
       "3    My boyfriend and I are long distance. We have ...   \n",
       "4    My landlord left a falsified message taped to ...   \n",
       "..                                                 ...   \n",
       "495  Yo, so me and my friend were texting for LITER...   \n",
       "496  Yo, so me and my friend were texting for LITER...   \n",
       "497  Yo, so me and my friend were texting for LITER...   \n",
       "498  Yo, so me and my friend were texting for LITER...   \n",
       "499  Today was my first day of work and I had spent...   \n",
       "\n",
       "                                                 title      subreddit  \n",
       "0    Mother [51] not speaking to me [21] because of...  relationships  \n",
       "1    Mother [51] not speaking to me [21] because of...  relationships  \n",
       "2    Mother [51] not speaking to me [21] because of...  relationships  \n",
       "3    Mother [51] not speaking to me [21] because of...  relationships  \n",
       "4    Can I sue my property management company and l...      AskReddit  \n",
       "..                                                 ...            ...  \n",
       "495  Me [16 M] with my friend [16 F] Just got cold-...  relationships  \n",
       "496  Me [16 M] with my friend [16 F] Just got cold-...  relationships  \n",
       "497  Me [16 M] with my friend [16 F] Just got cold-...  relationships  \n",
       "498  Me [16 M] with my friend [16 F] Just got cold-...  relationships  \n",
       "499      First day of work, 3rd boss thinks im a perv.      AskReddit  \n",
       "\n",
       "[500 rows x 7 columns]"
      ]
     },
     "execution_count": 47,
     "metadata": {},
     "output_type": "execute_result"
    }
   ],
   "source": [
    "df"
   ]
  },
  {
   "cell_type": "code",
   "execution_count": 51,
   "id": "556c0d71",
   "metadata": {},
   "outputs": [
    {
     "data": {
      "text/html": [
       "<div>\n",
       "<style scoped>\n",
       "    .dataframe tbody tr th:only-of-type {\n",
       "        vertical-align: middle;\n",
       "    }\n",
       "\n",
       "    .dataframe tbody tr th {\n",
       "        vertical-align: top;\n",
       "    }\n",
       "\n",
       "    .dataframe thead th {\n",
       "        text-align: right;\n",
       "    }\n",
       "</style>\n",
       "<table border=\"1\" class=\"dataframe\">\n",
       "  <thead>\n",
       "    <tr style=\"text-align: right;\">\n",
       "      <th></th>\n",
       "      <th>summaries</th>\n",
       "      <th>choice</th>\n",
       "      <th>prompt</th>\n",
       "      <th>post</th>\n",
       "      <th>title</th>\n",
       "      <th>subreddit</th>\n",
       "      <th>question_id</th>\n",
       "      <th>category</th>\n",
       "    </tr>\n",
       "  </thead>\n",
       "  <tbody>\n",
       "    <tr>\n",
       "      <th>0</th>\n",
       "      <td>[{'text': ' Mum is mad at me for not flying on...</td>\n",
       "      <td>1</td>\n",
       "      <td>None</td>\n",
       "      <td>My boyfriend and I are long distance. We have ...</td>\n",
       "      <td>Mother [51] not speaking to me [21] because of...</td>\n",
       "      <td>relationships</td>\n",
       "      <td>0</td>\n",
       "      <td>summary</td>\n",
       "    </tr>\n",
       "    <tr>\n",
       "      <th>1</th>\n",
       "      <td>[{'text': ' I have made sure my mother is comf...</td>\n",
       "      <td>1</td>\n",
       "      <td>None</td>\n",
       "      <td>My boyfriend and I are long distance. We have ...</td>\n",
       "      <td>Mother [51] not speaking to me [21] because of...</td>\n",
       "      <td>relationships</td>\n",
       "      <td>1</td>\n",
       "      <td>summary</td>\n",
       "    </tr>\n",
       "    <tr>\n",
       "      <th>2</th>\n",
       "      <td>[{'text': ' mum isn't speaking to me because I...</td>\n",
       "      <td>0</td>\n",
       "      <td>None</td>\n",
       "      <td>My boyfriend and I are long distance. We have ...</td>\n",
       "      <td>Mother [51] not speaking to me [21] because of...</td>\n",
       "      <td>relationships</td>\n",
       "      <td>2</td>\n",
       "      <td>summary</td>\n",
       "    </tr>\n",
       "    <tr>\n",
       "      <th>3</th>\n",
       "      <td>[{'text': ' Mum thought I was going to road tr...</td>\n",
       "      <td>0</td>\n",
       "      <td>None</td>\n",
       "      <td>My boyfriend and I are long distance. We have ...</td>\n",
       "      <td>Mother [51] not speaking to me [21] because of...</td>\n",
       "      <td>relationships</td>\n",
       "      <td>3</td>\n",
       "      <td>summary</td>\n",
       "    </tr>\n",
       "    <tr>\n",
       "      <th>4</th>\n",
       "      <td>[{'text': ' My landlord is harassing me and my...</td>\n",
       "      <td>1</td>\n",
       "      <td>None</td>\n",
       "      <td>My landlord left a falsified message taped to ...</td>\n",
       "      <td>Can I sue my property management company and l...</td>\n",
       "      <td>AskReddit</td>\n",
       "      <td>4</td>\n",
       "      <td>summary</td>\n",
       "    </tr>\n",
       "    <tr>\n",
       "      <th>...</th>\n",
       "      <td>...</td>\n",
       "      <td>...</td>\n",
       "      <td>...</td>\n",
       "      <td>...</td>\n",
       "      <td>...</td>\n",
       "      <td>...</td>\n",
       "      <td>...</td>\n",
       "      <td>...</td>\n",
       "    </tr>\n",
       "    <tr>\n",
       "      <th>495</th>\n",
       "      <td>[{'text': ' My friend and I talked for a few h...</td>\n",
       "      <td>0</td>\n",
       "      <td>None</td>\n",
       "      <td>Yo, so me and my friend were texting for LITER...</td>\n",
       "      <td>Me [16 M] with my friend [16 F] Just got cold-...</td>\n",
       "      <td>relationships</td>\n",
       "      <td>495</td>\n",
       "      <td>summary</td>\n",
       "    </tr>\n",
       "    <tr>\n",
       "      <th>496</th>\n",
       "      <td>[{'text': ' Texted my friend for 7 hours a nig...</td>\n",
       "      <td>0</td>\n",
       "      <td>None</td>\n",
       "      <td>Yo, so me and my friend were texting for LITER...</td>\n",
       "      <td>Me [16 M] with my friend [16 F] Just got cold-...</td>\n",
       "      <td>relationships</td>\n",
       "      <td>496</td>\n",
       "      <td>summary</td>\n",
       "    </tr>\n",
       "    <tr>\n",
       "      <th>497</th>\n",
       "      <td>[{'text': ' I texted my girl for 8 hours and n...</td>\n",
       "      <td>1</td>\n",
       "      <td>None</td>\n",
       "      <td>Yo, so me and my friend were texting for LITER...</td>\n",
       "      <td>Me [16 M] with my friend [16 F] Just got cold-...</td>\n",
       "      <td>relationships</td>\n",
       "      <td>497</td>\n",
       "      <td>summary</td>\n",
       "    </tr>\n",
       "    <tr>\n",
       "      <th>498</th>\n",
       "      <td>[{'text': ' I have been texting for 8 hours, b...</td>\n",
       "      <td>0</td>\n",
       "      <td>None</td>\n",
       "      <td>Yo, so me and my friend were texting for LITER...</td>\n",
       "      <td>Me [16 M] with my friend [16 F] Just got cold-...</td>\n",
       "      <td>relationships</td>\n",
       "      <td>498</td>\n",
       "      <td>summary</td>\n",
       "    </tr>\n",
       "    <tr>\n",
       "      <th>499</th>\n",
       "      <td>[{'text': ' My boss pulled up her blouse and p...</td>\n",
       "      <td>1</td>\n",
       "      <td>None</td>\n",
       "      <td>Today was my first day of work and I had spent...</td>\n",
       "      <td>First day of work, 3rd boss thinks im a perv.</td>\n",
       "      <td>AskReddit</td>\n",
       "      <td>499</td>\n",
       "      <td>summary</td>\n",
       "    </tr>\n",
       "  </tbody>\n",
       "</table>\n",
       "<p>500 rows × 8 columns</p>\n",
       "</div>"
      ],
      "text/plain": [
       "                                             summaries  choice prompt  \\\n",
       "0    [{'text': ' Mum is mad at me for not flying on...       1   None   \n",
       "1    [{'text': ' I have made sure my mother is comf...       1   None   \n",
       "2    [{'text': ' mum isn't speaking to me because I...       0   None   \n",
       "3    [{'text': ' Mum thought I was going to road tr...       0   None   \n",
       "4    [{'text': ' My landlord is harassing me and my...       1   None   \n",
       "..                                                 ...     ...    ...   \n",
       "495  [{'text': ' My friend and I talked for a few h...       0   None   \n",
       "496  [{'text': ' Texted my friend for 7 hours a nig...       0   None   \n",
       "497  [{'text': ' I texted my girl for 8 hours and n...       1   None   \n",
       "498  [{'text': ' I have been texting for 8 hours, b...       0   None   \n",
       "499  [{'text': ' My boss pulled up her blouse and p...       1   None   \n",
       "\n",
       "                                                  post  \\\n",
       "0    My boyfriend and I are long distance. We have ...   \n",
       "1    My boyfriend and I are long distance. We have ...   \n",
       "2    My boyfriend and I are long distance. We have ...   \n",
       "3    My boyfriend and I are long distance. We have ...   \n",
       "4    My landlord left a falsified message taped to ...   \n",
       "..                                                 ...   \n",
       "495  Yo, so me and my friend were texting for LITER...   \n",
       "496  Yo, so me and my friend were texting for LITER...   \n",
       "497  Yo, so me and my friend were texting for LITER...   \n",
       "498  Yo, so me and my friend were texting for LITER...   \n",
       "499  Today was my first day of work and I had spent...   \n",
       "\n",
       "                                                 title      subreddit  \\\n",
       "0    Mother [51] not speaking to me [21] because of...  relationships   \n",
       "1    Mother [51] not speaking to me [21] because of...  relationships   \n",
       "2    Mother [51] not speaking to me [21] because of...  relationships   \n",
       "3    Mother [51] not speaking to me [21] because of...  relationships   \n",
       "4    Can I sue my property management company and l...      AskReddit   \n",
       "..                                                 ...            ...   \n",
       "495  Me [16 M] with my friend [16 F] Just got cold-...  relationships   \n",
       "496  Me [16 M] with my friend [16 F] Just got cold-...  relationships   \n",
       "497  Me [16 M] with my friend [16 F] Just got cold-...  relationships   \n",
       "498  Me [16 M] with my friend [16 F] Just got cold-...  relationships   \n",
       "499      First day of work, 3rd boss thinks im a perv.      AskReddit   \n",
       "\n",
       "     question_id category  \n",
       "0              0  summary  \n",
       "1              1  summary  \n",
       "2              2  summary  \n",
       "3              3  summary  \n",
       "4              4  summary  \n",
       "..           ...      ...  \n",
       "495          495  summary  \n",
       "496          496  summary  \n",
       "497          497  summary  \n",
       "498          498  summary  \n",
       "499          499  summary  \n",
       "\n",
       "[500 rows x 8 columns]"
      ]
     },
     "execution_count": 51,
     "metadata": {},
     "output_type": "execute_result"
    }
   ],
   "source": [
    "df = df.drop(\"info\", axis=\"columns\")\n",
    "df[\"question_id\"] = pd.Series(range(df.shape[0]))\n",
    "df[\"category\"] = pd.Series(([\"summary\"]*df.shape[0]))\n",
    "df"
   ]
  },
  {
   "cell_type": "code",
   "execution_count": null,
   "id": "6b47c77c",
   "metadata": {},
   "outputs": [],
   "source": []
  }
 ],
 "metadata": {
  "kernelspec": {
   "display_name": "Python 3 (ipykernel)",
   "language": "python",
   "name": "python3"
  },
  "language_info": {
   "codemirror_mode": {
    "name": "ipython",
    "version": 3
   },
   "file_extension": ".py",
   "mimetype": "text/x-python",
   "name": "python",
   "nbconvert_exporter": "python",
   "pygments_lexer": "ipython3",
   "version": "3.9.18"
  }
 },
 "nbformat": 4,
 "nbformat_minor": 5
}
