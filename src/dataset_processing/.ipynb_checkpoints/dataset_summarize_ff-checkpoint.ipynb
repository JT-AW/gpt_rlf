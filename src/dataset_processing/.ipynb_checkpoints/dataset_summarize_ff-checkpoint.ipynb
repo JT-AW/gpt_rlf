{
 "cells": [
  {
   "cell_type": "markdown",
   "id": "122360b1",
   "metadata": {},
   "source": [
    "# Dataset Summarize From Feedback\n",
    "\n",
    "Take care of all the data cleaning to get the formatting to follow MT-Bench standards."
   ]
  },
  {
   "cell_type": "code",
   "execution_count": 1,
   "id": "8ad44ff6",
   "metadata": {},
   "outputs": [],
   "source": [
    "import pandas as pd\n",
    "import plotly as ply\n",
    "import numpy as np\n",
    "import os\n",
    "from tqdm import tqdm\n",
    "import pickle"
   ]
  },
  {
   "cell_type": "code",
   "execution_count": 2,
   "id": "6905567b",
   "metadata": {},
   "outputs": [],
   "source": [
    "from datasets import load_dataset, load_dataset_builder"
   ]
  },
  {
   "cell_type": "code",
   "execution_count": 3,
   "id": "a9b5071c",
   "metadata": {},
   "outputs": [],
   "source": [
    "ds_builder = load_dataset_builder(\"openai/summarize_from_feedback\", \"comparisons\")"
   ]
  },
  {
   "cell_type": "code",
   "execution_count": 4,
   "id": "bab1798f",
   "metadata": {},
   "outputs": [
    {
     "data": {
      "text/plain": [
       "'Summarize from Feedback contains the human feedback data released by the \"Learning to summarize from human feedback\" paper.\\n'"
      ]
     },
     "execution_count": 4,
     "metadata": {},
     "output_type": "execute_result"
    }
   ],
   "source": [
    "ds_builder.info.description"
   ]
  },
  {
   "cell_type": "code",
   "execution_count": 5,
   "id": "83b8abc2",
   "metadata": {},
   "outputs": [
    {
     "data": {
      "text/plain": [
       "{'info': {'id': Value(dtype='string', id=None),\n",
       "  'post': Value(dtype='string', id=None),\n",
       "  'title': Value(dtype='string', id=None),\n",
       "  'subreddit': Value(dtype='string', id=None),\n",
       "  'site': Value(dtype='string', id=None),\n",
       "  'article': Value(dtype='string', id=None)},\n",
       " 'summaries': [{'text': Value(dtype='string', id=None),\n",
       "   'policy': Value(dtype='string', id=None),\n",
       "   'note': Value(dtype='string', id=None)}],\n",
       " 'choice': Value(dtype='int32', id=None),\n",
       " 'worker': Value(dtype='string', id=None),\n",
       " 'batch': Value(dtype='string', id=None),\n",
       " 'split': Value(dtype='string', id=None),\n",
       " 'extra': {'confidence': Value(dtype='int32', id=None)}}"
      ]
     },
     "execution_count": 5,
     "metadata": {},
     "output_type": "execute_result"
    }
   ],
   "source": [
    "ds_builder.info.features"
   ]
  },
  {
   "cell_type": "code",
   "execution_count": 6,
   "id": "a93b6392",
   "metadata": {},
   "outputs": [
    {
     "name": "stderr",
     "output_type": "stream",
     "text": [
      "Found cached dataset summarize_from_feedback (/Users/johnwang/.cache/huggingface/datasets/openai___summarize_from_feedback/comparisons/0.0.0/483f970ceb55b926b0a087ef4f678ab1b089bc8174a107a452c6152e88af7ff0)\n"
     ]
    }
   ],
   "source": [
    "train_data = load_dataset('openai/summarize_from_feedback', \"comparisons\", split ='train[0:5000]')"
   ]
  },
  {
   "cell_type": "code",
   "execution_count": 7,
   "id": "6f34c70c",
   "metadata": {},
   "outputs": [
    {
     "data": {
      "text/plain": [
       "Dataset({\n",
       "    features: ['info', 'summaries', 'choice', 'worker', 'batch', 'split', 'extra'],\n",
       "    num_rows: 5000\n",
       "})"
      ]
     },
     "execution_count": 7,
     "metadata": {},
     "output_type": "execute_result"
    }
   ],
   "source": [
    "train_data"
   ]
  },
  {
   "cell_type": "code",
   "execution_count": 8,
   "id": "22713101",
   "metadata": {},
   "outputs": [],
   "source": [
    "df = train_data.to_pandas()"
   ]
  },
  {
   "cell_type": "code",
   "execution_count": 9,
   "id": "efb1db40",
   "metadata": {},
   "outputs": [
    {
     "data": {
      "text/plain": [
       "(5000, 7)"
      ]
     },
     "execution_count": 9,
     "metadata": {},
     "output_type": "execute_result"
    }
   ],
   "source": [
    "df[df['split']=='train'].shape"
   ]
  },
  {
   "cell_type": "code",
   "execution_count": 10,
   "id": "be32c357",
   "metadata": {},
   "outputs": [],
   "source": [
    "df = df.drop([\"batch\", \"split\", \"extra\", \"worker\"], axis=\"columns\")"
   ]
  },
  {
   "cell_type": "code",
   "execution_count": 11,
   "id": "415fc8ad",
   "metadata": {},
   "outputs": [],
   "source": [
    "df['post'] = df['info'].str['post']\n",
    "df['title'] = df['info'].str['title']\n",
    "df['subreddit'] = df['info'].str['subreddit']"
   ]
  },
  {
   "cell_type": "code",
   "execution_count": 12,
   "id": "556c0d71",
   "metadata": {},
   "outputs": [
    {
     "data": {
      "text/html": [
       "<div>\n",
       "<style scoped>\n",
       "    .dataframe tbody tr th:only-of-type {\n",
       "        vertical-align: middle;\n",
       "    }\n",
       "\n",
       "    .dataframe tbody tr th {\n",
       "        vertical-align: top;\n",
       "    }\n",
       "\n",
       "    .dataframe thead th {\n",
       "        text-align: right;\n",
       "    }\n",
       "</style>\n",
       "<table border=\"1\" class=\"dataframe\">\n",
       "  <thead>\n",
       "    <tr style=\"text-align: right;\">\n",
       "      <th></th>\n",
       "      <th>summaries</th>\n",
       "      <th>choice</th>\n",
       "      <th>post</th>\n",
       "      <th>title</th>\n",
       "      <th>subreddit</th>\n",
       "      <th>question_id</th>\n",
       "      <th>category</th>\n",
       "    </tr>\n",
       "  </thead>\n",
       "  <tbody>\n",
       "    <tr>\n",
       "      <th>0</th>\n",
       "      <td>[{'text': ' Mum is mad at me for not flying on...</td>\n",
       "      <td>1</td>\n",
       "      <td>My boyfriend and I are long distance. We have ...</td>\n",
       "      <td>Mother [51] not speaking to me [21] because of...</td>\n",
       "      <td>relationships</td>\n",
       "      <td>0</td>\n",
       "      <td>summary</td>\n",
       "    </tr>\n",
       "    <tr>\n",
       "      <th>1</th>\n",
       "      <td>[{'text': ' I have made sure my mother is comf...</td>\n",
       "      <td>1</td>\n",
       "      <td>My boyfriend and I are long distance. We have ...</td>\n",
       "      <td>Mother [51] not speaking to me [21] because of...</td>\n",
       "      <td>relationships</td>\n",
       "      <td>1</td>\n",
       "      <td>summary</td>\n",
       "    </tr>\n",
       "    <tr>\n",
       "      <th>2</th>\n",
       "      <td>[{'text': ' mum isn't speaking to me because I...</td>\n",
       "      <td>0</td>\n",
       "      <td>My boyfriend and I are long distance. We have ...</td>\n",
       "      <td>Mother [51] not speaking to me [21] because of...</td>\n",
       "      <td>relationships</td>\n",
       "      <td>2</td>\n",
       "      <td>summary</td>\n",
       "    </tr>\n",
       "    <tr>\n",
       "      <th>3</th>\n",
       "      <td>[{'text': ' Mum thought I was going to road tr...</td>\n",
       "      <td>0</td>\n",
       "      <td>My boyfriend and I are long distance. We have ...</td>\n",
       "      <td>Mother [51] not speaking to me [21] because of...</td>\n",
       "      <td>relationships</td>\n",
       "      <td>3</td>\n",
       "      <td>summary</td>\n",
       "    </tr>\n",
       "    <tr>\n",
       "      <th>4</th>\n",
       "      <td>[{'text': ' My landlord is harassing me and my...</td>\n",
       "      <td>1</td>\n",
       "      <td>My landlord left a falsified message taped to ...</td>\n",
       "      <td>Can I sue my property management company and l...</td>\n",
       "      <td>AskReddit</td>\n",
       "      <td>4</td>\n",
       "      <td>summary</td>\n",
       "    </tr>\n",
       "  </tbody>\n",
       "</table>\n",
       "</div>"
      ],
      "text/plain": [
       "                                           summaries  choice  \\\n",
       "0  [{'text': ' Mum is mad at me for not flying on...       1   \n",
       "1  [{'text': ' I have made sure my mother is comf...       1   \n",
       "2  [{'text': ' mum isn't speaking to me because I...       0   \n",
       "3  [{'text': ' Mum thought I was going to road tr...       0   \n",
       "4  [{'text': ' My landlord is harassing me and my...       1   \n",
       "\n",
       "                                                post  \\\n",
       "0  My boyfriend and I are long distance. We have ...   \n",
       "1  My boyfriend and I are long distance. We have ...   \n",
       "2  My boyfriend and I are long distance. We have ...   \n",
       "3  My boyfriend and I are long distance. We have ...   \n",
       "4  My landlord left a falsified message taped to ...   \n",
       "\n",
       "                                               title      subreddit  \\\n",
       "0  Mother [51] not speaking to me [21] because of...  relationships   \n",
       "1  Mother [51] not speaking to me [21] because of...  relationships   \n",
       "2  Mother [51] not speaking to me [21] because of...  relationships   \n",
       "3  Mother [51] not speaking to me [21] because of...  relationships   \n",
       "4  Can I sue my property management company and l...      AskReddit   \n",
       "\n",
       "   question_id category  \n",
       "0            0  summary  \n",
       "1            1  summary  \n",
       "2            2  summary  \n",
       "3            3  summary  \n",
       "4            4  summary  "
      ]
     },
     "execution_count": 12,
     "metadata": {},
     "output_type": "execute_result"
    }
   ],
   "source": [
    "df = df.drop(\"info\", axis=\"columns\")\n",
    "df[\"question_id\"] = pd.Series(range(df.shape[0]))\n",
    "df[\"category\"] = pd.Series(([\"summary\"]*df.shape[0]))\n",
    "df.head()"
   ]
  },
  {
   "cell_type": "code",
   "execution_count": 13,
   "id": "3c8a9cf5",
   "metadata": {},
   "outputs": [],
   "source": [
    "df['title'] = \"TITLE: \" + df['title']\n",
    "df['post'] = \"POST: \" + df['post']\n",
    "df['subreddit'] = \"SUBREDDIT: \" + df['subreddit']"
   ]
  },
  {
   "cell_type": "code",
   "execution_count": 14,
   "id": "13798283",
   "metadata": {},
   "outputs": [],
   "source": [
    "df['turns'] = df['subreddit'] + \" \" + df['title'] + \" \" + df['post']"
   ]
  },
  {
   "cell_type": "code",
   "execution_count": 15,
   "id": "db8b8e23",
   "metadata": {},
   "outputs": [
    {
     "data": {
      "text/html": [
       "<div>\n",
       "<style scoped>\n",
       "    .dataframe tbody tr th:only-of-type {\n",
       "        vertical-align: middle;\n",
       "    }\n",
       "\n",
       "    .dataframe tbody tr th {\n",
       "        vertical-align: top;\n",
       "    }\n",
       "\n",
       "    .dataframe thead th {\n",
       "        text-align: right;\n",
       "    }\n",
       "</style>\n",
       "<table border=\"1\" class=\"dataframe\">\n",
       "  <thead>\n",
       "    <tr style=\"text-align: right;\">\n",
       "      <th></th>\n",
       "      <th>summaries</th>\n",
       "      <th>choice</th>\n",
       "      <th>post</th>\n",
       "      <th>title</th>\n",
       "      <th>subreddit</th>\n",
       "      <th>question_id</th>\n",
       "      <th>category</th>\n",
       "      <th>turns</th>\n",
       "    </tr>\n",
       "  </thead>\n",
       "  <tbody>\n",
       "    <tr>\n",
       "      <th>0</th>\n",
       "      <td>[{'text': ' Mum is mad at me for not flying on...</td>\n",
       "      <td>1</td>\n",
       "      <td>POST: My boyfriend and I are long distance. We...</td>\n",
       "      <td>TITLE: Mother [51] not speaking to me [21] bec...</td>\n",
       "      <td>SUBREDDIT: relationships</td>\n",
       "      <td>0</td>\n",
       "      <td>summary</td>\n",
       "      <td>SUBREDDIT: relationships TITLE: Mother [51] no...</td>\n",
       "    </tr>\n",
       "    <tr>\n",
       "      <th>1</th>\n",
       "      <td>[{'text': ' I have made sure my mother is comf...</td>\n",
       "      <td>1</td>\n",
       "      <td>POST: My boyfriend and I are long distance. We...</td>\n",
       "      <td>TITLE: Mother [51] not speaking to me [21] bec...</td>\n",
       "      <td>SUBREDDIT: relationships</td>\n",
       "      <td>1</td>\n",
       "      <td>summary</td>\n",
       "      <td>SUBREDDIT: relationships TITLE: Mother [51] no...</td>\n",
       "    </tr>\n",
       "    <tr>\n",
       "      <th>2</th>\n",
       "      <td>[{'text': ' mum isn't speaking to me because I...</td>\n",
       "      <td>0</td>\n",
       "      <td>POST: My boyfriend and I are long distance. We...</td>\n",
       "      <td>TITLE: Mother [51] not speaking to me [21] bec...</td>\n",
       "      <td>SUBREDDIT: relationships</td>\n",
       "      <td>2</td>\n",
       "      <td>summary</td>\n",
       "      <td>SUBREDDIT: relationships TITLE: Mother [51] no...</td>\n",
       "    </tr>\n",
       "    <tr>\n",
       "      <th>3</th>\n",
       "      <td>[{'text': ' Mum thought I was going to road tr...</td>\n",
       "      <td>0</td>\n",
       "      <td>POST: My boyfriend and I are long distance. We...</td>\n",
       "      <td>TITLE: Mother [51] not speaking to me [21] bec...</td>\n",
       "      <td>SUBREDDIT: relationships</td>\n",
       "      <td>3</td>\n",
       "      <td>summary</td>\n",
       "      <td>SUBREDDIT: relationships TITLE: Mother [51] no...</td>\n",
       "    </tr>\n",
       "    <tr>\n",
       "      <th>4</th>\n",
       "      <td>[{'text': ' My landlord is harassing me and my...</td>\n",
       "      <td>1</td>\n",
       "      <td>POST: My landlord left a falsified message tap...</td>\n",
       "      <td>TITLE: Can I sue my property management compan...</td>\n",
       "      <td>SUBREDDIT: AskReddit</td>\n",
       "      <td>4</td>\n",
       "      <td>summary</td>\n",
       "      <td>SUBREDDIT: AskReddit TITLE: Can I sue my prope...</td>\n",
       "    </tr>\n",
       "  </tbody>\n",
       "</table>\n",
       "</div>"
      ],
      "text/plain": [
       "                                           summaries  choice  \\\n",
       "0  [{'text': ' Mum is mad at me for not flying on...       1   \n",
       "1  [{'text': ' I have made sure my mother is comf...       1   \n",
       "2  [{'text': ' mum isn't speaking to me because I...       0   \n",
       "3  [{'text': ' Mum thought I was going to road tr...       0   \n",
       "4  [{'text': ' My landlord is harassing me and my...       1   \n",
       "\n",
       "                                                post  \\\n",
       "0  POST: My boyfriend and I are long distance. We...   \n",
       "1  POST: My boyfriend and I are long distance. We...   \n",
       "2  POST: My boyfriend and I are long distance. We...   \n",
       "3  POST: My boyfriend and I are long distance. We...   \n",
       "4  POST: My landlord left a falsified message tap...   \n",
       "\n",
       "                                               title  \\\n",
       "0  TITLE: Mother [51] not speaking to me [21] bec...   \n",
       "1  TITLE: Mother [51] not speaking to me [21] bec...   \n",
       "2  TITLE: Mother [51] not speaking to me [21] bec...   \n",
       "3  TITLE: Mother [51] not speaking to me [21] bec...   \n",
       "4  TITLE: Can I sue my property management compan...   \n",
       "\n",
       "                  subreddit  question_id category  \\\n",
       "0  SUBREDDIT: relationships            0  summary   \n",
       "1  SUBREDDIT: relationships            1  summary   \n",
       "2  SUBREDDIT: relationships            2  summary   \n",
       "3  SUBREDDIT: relationships            3  summary   \n",
       "4      SUBREDDIT: AskReddit            4  summary   \n",
       "\n",
       "                                               turns  \n",
       "0  SUBREDDIT: relationships TITLE: Mother [51] no...  \n",
       "1  SUBREDDIT: relationships TITLE: Mother [51] no...  \n",
       "2  SUBREDDIT: relationships TITLE: Mother [51] no...  \n",
       "3  SUBREDDIT: relationships TITLE: Mother [51] no...  \n",
       "4  SUBREDDIT: AskReddit TITLE: Can I sue my prope...  "
      ]
     },
     "execution_count": 15,
     "metadata": {},
     "output_type": "execute_result"
    }
   ],
   "source": [
    "df.head()"
   ]
  },
  {
   "cell_type": "code",
   "execution_count": 22,
   "id": "17b7365d",
   "metadata": {},
   "outputs": [
    {
     "name": "stderr",
     "output_type": "stream",
     "text": [
      "/var/folders/47/6tnvyg_d59q30rxctcycd3gr0000gn/T/ipykernel_84986/1658894321.py:2: SettingWithCopyWarning: \n",
      "A value is trying to be set on a copy of a slice from a DataFrame.\n",
      "Try using .loc[row_indexer,col_indexer] = value instead\n",
      "\n",
      "See the caveats in the documentation: https://pandas.pydata.org/pandas-docs/stable/user_guide/indexing.html#returning-a-view-versus-a-copy\n",
      "  answers['model0'] = df['summaries'].str[0].str['text']\n",
      "/var/folders/47/6tnvyg_d59q30rxctcycd3gr0000gn/T/ipykernel_84986/1658894321.py:3: SettingWithCopyWarning: \n",
      "A value is trying to be set on a copy of a slice from a DataFrame.\n",
      "Try using .loc[row_indexer,col_indexer] = value instead\n",
      "\n",
      "See the caveats in the documentation: https://pandas.pydata.org/pandas-docs/stable/user_guide/indexing.html#returning-a-view-versus-a-copy\n",
      "  answers['model1'] = df['summaries'].str[1].str['text']\n"
     ]
    }
   ],
   "source": [
    "answers = df[['question_id', 'summaries']]\n",
    "answers['model0'] = df['summaries'].str[0].str['text']\n",
    "answers['model1'] = df['summaries'].str[1].str['text']"
   ]
  },
  {
   "cell_type": "code",
   "execution_count": 24,
   "id": "b7997c7d",
   "metadata": {},
   "outputs": [
    {
     "data": {
      "text/html": [
       "<div>\n",
       "<style scoped>\n",
       "    .dataframe tbody tr th:only-of-type {\n",
       "        vertical-align: middle;\n",
       "    }\n",
       "\n",
       "    .dataframe tbody tr th {\n",
       "        vertical-align: top;\n",
       "    }\n",
       "\n",
       "    .dataframe thead th {\n",
       "        text-align: right;\n",
       "    }\n",
       "</style>\n",
       "<table border=\"1\" class=\"dataframe\">\n",
       "  <thead>\n",
       "    <tr style=\"text-align: right;\">\n",
       "      <th></th>\n",
       "      <th>question_id</th>\n",
       "      <th>answer</th>\n",
       "    </tr>\n",
       "  </thead>\n",
       "  <tbody>\n",
       "    <tr>\n",
       "      <th>0</th>\n",
       "      <td>0</td>\n",
       "      <td>Mum is mad at me for not flying on my own tri...</td>\n",
       "    </tr>\n",
       "    <tr>\n",
       "      <th>1</th>\n",
       "      <td>1</td>\n",
       "      <td>I have made sure my mother is comfortable wit...</td>\n",
       "    </tr>\n",
       "    <tr>\n",
       "      <th>2</th>\n",
       "      <td>2</td>\n",
       "      <td>mum isn't speaking to me because I booked a f...</td>\n",
       "    </tr>\n",
       "    <tr>\n",
       "      <th>3</th>\n",
       "      <td>3</td>\n",
       "      <td>Mum thought I was going to road trip with my ...</td>\n",
       "    </tr>\n",
       "    <tr>\n",
       "      <th>4</th>\n",
       "      <td>4</td>\n",
       "      <td>My landlord is harassing me and my neighbours...</td>\n",
       "    </tr>\n",
       "  </tbody>\n",
       "</table>\n",
       "</div>"
      ],
      "text/plain": [
       "   question_id                                             answer\n",
       "0            0   Mum is mad at me for not flying on my own tri...\n",
       "1            1   I have made sure my mother is comfortable wit...\n",
       "2            2   mum isn't speaking to me because I booked a f...\n",
       "3            3   Mum thought I was going to road trip with my ...\n",
       "4            4   My landlord is harassing me and my neighbours..."
      ]
     },
     "execution_count": 24,
     "metadata": {},
     "output_type": "execute_result"
    }
   ],
   "source": [
    "model0 = answers[['question_id', 'model0']].rename(columns={'model0':'answer'})\n",
    "model1= answers[['question_id', 'model1']].rename(columns={'model1':'answer'})\n",
    "model0.head()"
   ]
  },
  {
   "cell_type": "markdown",
   "id": "6ca2cbf7",
   "metadata": {},
   "source": [
    "# Create Questions JSONL: (sff_questions.jsonl)"
   ]
  },
  {
   "cell_type": "code",
   "execution_count": 124,
   "id": "7df9df4a",
   "metadata": {},
   "outputs": [
    {
     "data": {
      "text/html": [
       "<div>\n",
       "<style scoped>\n",
       "    .dataframe tbody tr th:only-of-type {\n",
       "        vertical-align: middle;\n",
       "    }\n",
       "\n",
       "    .dataframe tbody tr th {\n",
       "        vertical-align: top;\n",
       "    }\n",
       "\n",
       "    .dataframe thead th {\n",
       "        text-align: right;\n",
       "    }\n",
       "</style>\n",
       "<table border=\"1\" class=\"dataframe\">\n",
       "  <thead>\n",
       "    <tr style=\"text-align: right;\">\n",
       "      <th></th>\n",
       "      <th>question_id</th>\n",
       "      <th>category</th>\n",
       "      <th>turns</th>\n",
       "    </tr>\n",
       "  </thead>\n",
       "  <tbody>\n",
       "    <tr>\n",
       "      <th>0</th>\n",
       "      <td>0</td>\n",
       "      <td>summary</td>\n",
       "      <td>SUBREDDIT: relationships TITLE: Mother [51] no...</td>\n",
       "    </tr>\n",
       "    <tr>\n",
       "      <th>1</th>\n",
       "      <td>1</td>\n",
       "      <td>summary</td>\n",
       "      <td>SUBREDDIT: relationships TITLE: Mother [51] no...</td>\n",
       "    </tr>\n",
       "    <tr>\n",
       "      <th>2</th>\n",
       "      <td>2</td>\n",
       "      <td>summary</td>\n",
       "      <td>SUBREDDIT: relationships TITLE: Mother [51] no...</td>\n",
       "    </tr>\n",
       "    <tr>\n",
       "      <th>3</th>\n",
       "      <td>3</td>\n",
       "      <td>summary</td>\n",
       "      <td>SUBREDDIT: relationships TITLE: Mother [51] no...</td>\n",
       "    </tr>\n",
       "    <tr>\n",
       "      <th>4</th>\n",
       "      <td>4</td>\n",
       "      <td>summary</td>\n",
       "      <td>SUBREDDIT: AskReddit TITLE: Can I sue my prope...</td>\n",
       "    </tr>\n",
       "  </tbody>\n",
       "</table>\n",
       "</div>"
      ],
      "text/plain": [
       "   question_id category                                              turns\n",
       "0            0  summary  SUBREDDIT: relationships TITLE: Mother [51] no...\n",
       "1            1  summary  SUBREDDIT: relationships TITLE: Mother [51] no...\n",
       "2            2  summary  SUBREDDIT: relationships TITLE: Mother [51] no...\n",
       "3            3  summary  SUBREDDIT: relationships TITLE: Mother [51] no...\n",
       "4            4  summary  SUBREDDIT: AskReddit TITLE: Can I sue my prope..."
      ]
     },
     "execution_count": 124,
     "metadata": {},
     "output_type": "execute_result"
    }
   ],
   "source": [
    "questions = df[['question_id', 'category', 'turns']].copy()\n",
    "questions.head()"
   ]
  },
  {
   "cell_type": "code",
   "execution_count": 125,
   "id": "23d5473e",
   "metadata": {},
   "outputs": [],
   "source": [
    "questions['turns'] = 'Given the context of the specified subreddit and title, summarize the post. ' + questions['turns']\n",
    "questions['turns'] = questions['turns'].apply(lambda x: [x])"
   ]
  },
  {
   "cell_type": "code",
   "execution_count": 130,
   "id": "a9ab887c",
   "metadata": {},
   "outputs": [],
   "source": [
    "q_json = questions.to_json(orient='records')\n",
    "#q_json"
   ]
  },
  {
   "cell_type": "code",
   "execution_count": 134,
   "id": "7ba2e7e5",
   "metadata": {},
   "outputs": [],
   "source": [
    "import json\n",
    "with open(\"sff_test.jsonl\", \"w\") as file:\n",
    "    for item in questions.to_dict('records'):\n",
    "        json_line = json.dumps(item)\n",
    "        file.write(json_line + '\\n')"
   ]
  }
 ],
 "metadata": {
  "kernelspec": {
   "display_name": "Python 3 (ipykernel)",
   "language": "python",
   "name": "python3"
  },
  "language_info": {
   "codemirror_mode": {
    "name": "ipython",
    "version": 3
   },
   "file_extension": ".py",
   "mimetype": "text/x-python",
   "name": "python",
   "nbconvert_exporter": "python",
   "pygments_lexer": "ipython3",
   "version": "3.11.5"
  }
 },
 "nbformat": 4,
 "nbformat_minor": 5
}
