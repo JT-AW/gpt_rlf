{
 "cells": [
  {
   "cell_type": "markdown",
   "id": "122360b1",
   "metadata": {},
   "source": [
    "# Dataset Summarize From Feedback\n",
    "\n",
    "Take care of all the data cleaning to get the formatting to follow MT-Bench standards."
   ]
  },
  {
   "cell_type": "code",
   "execution_count": 41,
   "id": "8ad44ff6",
   "metadata": {},
   "outputs": [],
   "source": [
    "import pandas as pd\n",
    "import plotly as ply\n",
    "import numpy as np\n",
    "import os\n",
    "from tqdm import tqdm\n",
    "import pickle"
   ]
  },
  {
   "cell_type": "code",
   "execution_count": 42,
   "id": "6905567b",
   "metadata": {},
   "outputs": [],
   "source": [
    "from datasets import load_dataset, load_dataset_builder"
   ]
  },
  {
   "cell_type": "code",
   "execution_count": 43,
   "id": "a9b5071c",
   "metadata": {},
   "outputs": [],
   "source": [
    "ds_builder = load_dataset_builder(\"tatsu-lab/alpaca_farm\", \"alpaca_gpt4_preference\")"
   ]
  },
  {
   "cell_type": "code",
   "execution_count": 44,
   "id": "bab1798f",
   "metadata": {},
   "outputs": [
    {
     "data": {
      "text/plain": [
       "'\\nData used in the original AlpacaFarm experiments.\\nIncludes SFT and preference examples.\\n'"
      ]
     },
     "execution_count": 44,
     "metadata": {},
     "output_type": "execute_result"
    }
   ],
   "source": [
    "ds_builder.info.description"
   ]
  },
  {
   "cell_type": "code",
   "execution_count": 45,
   "id": "83b8abc2",
   "metadata": {},
   "outputs": [
    {
     "data": {
      "text/plain": [
       "{'instruction': Value(dtype='string', id=None),\n",
       " 'input': Value(dtype='string', id=None),\n",
       " 'output_1': Value(dtype='string', id=None),\n",
       " 'output_2': Value(dtype='string', id=None),\n",
       " 'preference': Value(dtype='int64', id=None)}"
      ]
     },
     "execution_count": 45,
     "metadata": {},
     "output_type": "execute_result"
    }
   ],
   "source": [
    "ds_builder.info.features"
   ]
  },
  {
   "cell_type": "code",
   "execution_count": 46,
   "id": "a93b6392",
   "metadata": {},
   "outputs": [
    {
     "name": "stderr",
     "output_type": "stream",
     "text": [
      "Found cached dataset alpaca_farm (/Users/johnwang/.cache/huggingface/datasets/tatsu-lab___alpaca_farm/alpaca_gpt4_preference/1.0.0/79d38dc3f12abd62869e376303b68092e8385769e22f05166fe96a3dac29a57a)\n"
     ]
    }
   ],
   "source": [
    "train_data = load_dataset(\"tatsu-lab/alpaca_farm\", \"alpaca_gpt4_preference\", split ='preference[0:5000]')"
   ]
  },
  {
   "cell_type": "code",
   "execution_count": 47,
   "id": "6f34c70c",
   "metadata": {},
   "outputs": [
    {
     "data": {
      "text/plain": [
       "Dataset({\n",
       "    features: ['instruction', 'input', 'output_1', 'output_2', 'preference'],\n",
       "    num_rows: 5000\n",
       "})"
      ]
     },
     "execution_count": 47,
     "metadata": {},
     "output_type": "execute_result"
    }
   ],
   "source": [
    "train_data"
   ]
  },
  {
   "cell_type": "code",
   "execution_count": 48,
   "id": "22713101",
   "metadata": {},
   "outputs": [],
   "source": [
    "df = train_data.to_pandas()"
   ]
  },
  {
   "cell_type": "code",
   "execution_count": 49,
   "id": "efb1db40",
   "metadata": {},
   "outputs": [
    {
     "data": {
      "text/plain": [
       "(5000, 5)"
      ]
     },
     "execution_count": 49,
     "metadata": {},
     "output_type": "execute_result"
    }
   ],
   "source": [
    "df.shape"
   ]
  },
  {
   "cell_type": "code",
   "execution_count": 50,
   "id": "438844d4",
   "metadata": {},
   "outputs": [],
   "source": [
    "df['turns'] = df['instruction'] + ' ' + df['input']\n",
    "df['turns'] = df['turns'].apply(lambda x: [x])"
   ]
  },
  {
   "cell_type": "code",
   "execution_count": 51,
   "id": "b0fbb18f",
   "metadata": {},
   "outputs": [],
   "source": [
    "df = df.drop(['instruction', 'input'], axis='columns')\n",
    "df['answers'] = df.apply(lambda row: [row['output_1'], row['output_2']], axis=1)"
   ]
  },
  {
   "cell_type": "code",
   "execution_count": 53,
   "id": "ed3a4115",
   "metadata": {
    "scrolled": false
   },
   "outputs": [],
   "source": [
    "df = df.drop(['output_1', 'output_2'], axis='columns')"
   ]
  },
  {
   "cell_type": "code",
   "execution_count": 59,
   "id": "23cbb2b7",
   "metadata": {},
   "outputs": [],
   "source": [
    "labeled_data = df.copy()"
   ]
  },
  {
   "cell_type": "code",
   "execution_count": 60,
   "id": "2ddb11fa",
   "metadata": {},
   "outputs": [],
   "source": [
    "labeled_data = labeled_data[['turns', 'answers', 'preference']]"
   ]
  },
  {
   "cell_type": "code",
   "execution_count": 61,
   "id": "581d7a01",
   "metadata": {},
   "outputs": [
    {
     "data": {
      "text/html": [
       "<div>\n",
       "<style scoped>\n",
       "    .dataframe tbody tr th:only-of-type {\n",
       "        vertical-align: middle;\n",
       "    }\n",
       "\n",
       "    .dataframe tbody tr th {\n",
       "        vertical-align: top;\n",
       "    }\n",
       "\n",
       "    .dataframe thead th {\n",
       "        text-align: right;\n",
       "    }\n",
       "</style>\n",
       "<table border=\"1\" class=\"dataframe\">\n",
       "  <thead>\n",
       "    <tr style=\"text-align: right;\">\n",
       "      <th></th>\n",
       "      <th>turns</th>\n",
       "      <th>answers</th>\n",
       "      <th>preference</th>\n",
       "    </tr>\n",
       "  </thead>\n",
       "  <tbody>\n",
       "    <tr>\n",
       "      <th>0</th>\n",
       "      <td>[Access the default browser settings on a comp...</td>\n",
       "      <td>[To access the default browser settings on a c...</td>\n",
       "      <td>2</td>\n",
       "    </tr>\n",
       "    <tr>\n",
       "      <th>1</th>\n",
       "      <td>[Access the third element of the list. [0, 1, ...</td>\n",
       "      <td>[The third element of the list is 3., 3]</td>\n",
       "      <td>2</td>\n",
       "    </tr>\n",
       "    <tr>\n",
       "      <th>2</th>\n",
       "      <td>[According to the given text, what is the main...</td>\n",
       "      <td>[The main argument being made is that technolo...</td>\n",
       "      <td>2</td>\n",
       "    </tr>\n",
       "    <tr>\n",
       "      <th>3</th>\n",
       "      <td>[According to the source article, what is the ...</td>\n",
       "      <td>[The purpose of writing a press release is to ...</td>\n",
       "      <td>2</td>\n",
       "    </tr>\n",
       "    <tr>\n",
       "      <th>4</th>\n",
       "      <td>[According to the story, what is the main mess...</td>\n",
       "      <td>[The main message that FIFA President Gianni I...</td>\n",
       "      <td>2</td>\n",
       "    </tr>\n",
       "  </tbody>\n",
       "</table>\n",
       "</div>"
      ],
      "text/plain": [
       "                                               turns  \\\n",
       "0  [Access the default browser settings on a comp...   \n",
       "1  [Access the third element of the list. [0, 1, ...   \n",
       "2  [According to the given text, what is the main...   \n",
       "3  [According to the source article, what is the ...   \n",
       "4  [According to the story, what is the main mess...   \n",
       "\n",
       "                                             answers  preference  \n",
       "0  [To access the default browser settings on a c...           2  \n",
       "1           [The third element of the list is 3., 3]           2  \n",
       "2  [The main argument being made is that technolo...           2  \n",
       "3  [The purpose of writing a press release is to ...           2  \n",
       "4  [The main message that FIFA President Gianni I...           2  "
      ]
     },
     "execution_count": 61,
     "metadata": {},
     "output_type": "execute_result"
    }
   ],
   "source": [
    "labeled_data.head()"
   ]
  },
  {
   "cell_type": "markdown",
   "id": "6ca2cbf7",
   "metadata": {},
   "source": [
    "# Create Labeled Data JSONL: (af_questions.jsonl)"
   ]
  },
  {
   "cell_type": "code",
   "execution_count": 134,
   "id": "7ba2e7e5",
   "metadata": {},
   "outputs": [],
   "source": [
    "import json\n",
    "with open(\"af_ldata.jsonl\", \"w\") as file:\n",
    "    for item in questions.to_dict('records'):\n",
    "        json_line = json.dumps(item)\n",
    "        file.write(json_line + '\\n')"
   ]
  }
 ],
 "metadata": {
  "kernelspec": {
   "display_name": "Python 3 (ipykernel)",
   "language": "python",
   "name": "python3"
  },
  "language_info": {
   "codemirror_mode": {
    "name": "ipython",
    "version": 3
   },
   "file_extension": ".py",
   "mimetype": "text/x-python",
   "name": "python",
   "nbconvert_exporter": "python",
   "pygments_lexer": "ipython3",
   "version": "3.11.5"
  }
 },
 "nbformat": 4,
 "nbformat_minor": 5
}
