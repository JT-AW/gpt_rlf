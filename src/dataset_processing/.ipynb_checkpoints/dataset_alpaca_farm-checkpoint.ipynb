{
 "cells": [
  {
   "cell_type": "markdown",
   "id": "122360b1",
   "metadata": {},
   "source": [
    "# Dataset Summarize From Feedback\n",
    "\n",
    "Take care of all the data cleaning to get the formatting to follow MT-Bench standards."
   ]
  },
  {
   "cell_type": "code",
   "execution_count": 1,
   "id": "8ad44ff6",
   "metadata": {},
   "outputs": [],
   "source": [
    "import pandas as pd\n",
    "import plotly as ply\n",
    "import numpy as np\n",
    "import os\n",
    "from tqdm import tqdm\n",
    "import pickle"
   ]
  },
  {
   "cell_type": "code",
   "execution_count": 2,
   "id": "6905567b",
   "metadata": {},
   "outputs": [],
   "source": [
    "from datasets import load_dataset, load_dataset_builder"
   ]
  },
  {
   "cell_type": "code",
   "execution_count": 4,
   "id": "a9b5071c",
   "metadata": {},
   "outputs": [],
   "source": [
    "ds_builder = load_dataset_builder(\"tatsu-lab/alpaca_farm\", \"alpaca_gpt4_preference\")"
   ]
  },
  {
   "cell_type": "code",
   "execution_count": 5,
   "id": "bab1798f",
   "metadata": {},
   "outputs": [
    {
     "data": {
      "text/plain": [
       "'\\nData used in the original AlpacaFarm experiments.\\nIncludes SFT and preference examples.\\n'"
      ]
     },
     "execution_count": 5,
     "metadata": {},
     "output_type": "execute_result"
    }
   ],
   "source": [
    "ds_builder.info.description"
   ]
  },
  {
   "cell_type": "code",
   "execution_count": 6,
   "id": "83b8abc2",
   "metadata": {},
   "outputs": [
    {
     "data": {
      "text/plain": [
       "{'instruction': Value(dtype='string', id=None),\n",
       " 'input': Value(dtype='string', id=None),\n",
       " 'output_1': Value(dtype='string', id=None),\n",
       " 'output_2': Value(dtype='string', id=None),\n",
       " 'preference': Value(dtype='int64', id=None)}"
      ]
     },
     "execution_count": 6,
     "metadata": {},
     "output_type": "execute_result"
    }
   ],
   "source": [
    "ds_builder.info.features"
   ]
  },
  {
   "cell_type": "code",
   "execution_count": 7,
   "id": "a93b6392",
   "metadata": {},
   "outputs": [
    {
     "name": "stdout",
     "output_type": "stream",
     "text": [
      "Downloading and preparing dataset alpaca_farm/alpaca_gpt4_preference to /Users/johnwang/.cache/huggingface/datasets/tatsu-lab___alpaca_farm/alpaca_gpt4_preference/1.0.0/79d38dc3f12abd62869e376303b68092e8385769e22f05166fe96a3dac29a57a...\n"
     ]
    },
    {
     "data": {
      "application/vnd.jupyter.widget-view+json": {
       "model_id": "92309ec84b46445f8aa11f3c44d4e745",
       "version_major": 2,
       "version_minor": 0
      },
      "text/plain": [
       "Downloading data:   0%|          | 0.00/14.9M [00:00<?, ?B/s]"
      ]
     },
     "metadata": {},
     "output_type": "display_data"
    },
    {
     "name": "stdout",
     "output_type": "stream",
     "text": [
      "/Users/johnwang/.cache/huggingface/datasets/downloads/4d9842f56ccb867b37940153b8fdeb286cf947e72dfc1377685f50ff22f4ae6c\n"
     ]
    },
    {
     "data": {
      "application/vnd.jupyter.widget-view+json": {
       "model_id": "",
       "version_major": 2,
       "version_minor": 0
      },
      "text/plain": [
       "Generating preference split: 0 examples [00:00, ? examples/s]"
      ]
     },
     "metadata": {},
     "output_type": "display_data"
    },
    {
     "name": "stdout",
     "output_type": "stream",
     "text": [
      "Dataset alpaca_farm downloaded and prepared to /Users/johnwang/.cache/huggingface/datasets/tatsu-lab___alpaca_farm/alpaca_gpt4_preference/1.0.0/79d38dc3f12abd62869e376303b68092e8385769e22f05166fe96a3dac29a57a. Subsequent calls will reuse this data.\n"
     ]
    }
   ],
   "source": [
    "train_data = load_dataset(\"tatsu-lab/alpaca_farm\", \"alpaca_gpt4_preference\", split ='preference[0:5000]')"
   ]
  },
  {
   "cell_type": "code",
   "execution_count": 8,
   "id": "6f34c70c",
   "metadata": {},
   "outputs": [
    {
     "data": {
      "text/plain": [
       "Dataset({\n",
       "    features: ['instruction', 'input', 'output_1', 'output_2', 'preference'],\n",
       "    num_rows: 5000\n",
       "})"
      ]
     },
     "execution_count": 8,
     "metadata": {},
     "output_type": "execute_result"
    }
   ],
   "source": [
    "train_data"
   ]
  },
  {
   "cell_type": "code",
   "execution_count": 9,
   "id": "22713101",
   "metadata": {},
   "outputs": [],
   "source": [
    "df = train_data.to_pandas()"
   ]
  },
  {
   "cell_type": "code",
   "execution_count": 13,
   "id": "efb1db40",
   "metadata": {},
   "outputs": [
    {
     "data": {
      "text/plain": [
       "(5000, 5)"
      ]
     },
     "execution_count": 13,
     "metadata": {},
     "output_type": "execute_result"
    }
   ],
   "source": [
    "df.shape"
   ]
  },
  {
   "cell_type": "code",
   "execution_count": 14,
   "id": "438844d4",
   "metadata": {},
   "outputs": [
    {
     "data": {
      "text/html": [
       "<div>\n",
       "<style scoped>\n",
       "    .dataframe tbody tr th:only-of-type {\n",
       "        vertical-align: middle;\n",
       "    }\n",
       "\n",
       "    .dataframe tbody tr th {\n",
       "        vertical-align: top;\n",
       "    }\n",
       "\n",
       "    .dataframe thead th {\n",
       "        text-align: right;\n",
       "    }\n",
       "</style>\n",
       "<table border=\"1\" class=\"dataframe\">\n",
       "  <thead>\n",
       "    <tr style=\"text-align: right;\">\n",
       "      <th></th>\n",
       "      <th>instruction</th>\n",
       "      <th>input</th>\n",
       "      <th>output_1</th>\n",
       "      <th>output_2</th>\n",
       "      <th>preference</th>\n",
       "    </tr>\n",
       "  </thead>\n",
       "  <tbody>\n",
       "    <tr>\n",
       "      <th>0</th>\n",
       "      <td>Access the default browser settings on a compu...</td>\n",
       "      <td></td>\n",
       "      <td>To access the default browser settings on a co...</td>\n",
       "      <td>In the Google Chrome browser, the default sett...</td>\n",
       "      <td>2</td>\n",
       "    </tr>\n",
       "    <tr>\n",
       "      <th>1</th>\n",
       "      <td>Access the third element of the list.</td>\n",
       "      <td>[0, 1, 6, 3, 4]</td>\n",
       "      <td>The third element of the list is 3.</td>\n",
       "      <td>3</td>\n",
       "      <td>2</td>\n",
       "    </tr>\n",
       "    <tr>\n",
       "      <th>2</th>\n",
       "      <td>According to the given text, what is the main ...</td>\n",
       "      <td>As technology continues to develop and evolve,...</td>\n",
       "      <td>The main argument being made is that technolog...</td>\n",
       "      <td>The main argument being made is that technolog...</td>\n",
       "      <td>2</td>\n",
       "    </tr>\n",
       "    <tr>\n",
       "      <th>3</th>\n",
       "      <td>According to the source article, what is the p...</td>\n",
       "      <td></td>\n",
       "      <td>The purpose of writing a press release is to d...</td>\n",
       "      <td>The purpose of writing a press release is to c...</td>\n",
       "      <td>2</td>\n",
       "    </tr>\n",
       "    <tr>\n",
       "      <th>4</th>\n",
       "      <td>According to the story, what is the main messa...</td>\n",
       "      <td>Doha, Qatar (CNN) — On the eve of the 2022 Wor...</td>\n",
       "      <td>The main message that FIFA President Gianni In...</td>\n",
       "      <td>The main message that FIFA President Gianni In...</td>\n",
       "      <td>2</td>\n",
       "    </tr>\n",
       "  </tbody>\n",
       "</table>\n",
       "</div>"
      ],
      "text/plain": [
       "                                         instruction  \\\n",
       "0  Access the default browser settings on a compu...   \n",
       "1              Access the third element of the list.   \n",
       "2  According to the given text, what is the main ...   \n",
       "3  According to the source article, what is the p...   \n",
       "4  According to the story, what is the main messa...   \n",
       "\n",
       "                                               input  \\\n",
       "0                                                      \n",
       "1                                    [0, 1, 6, 3, 4]   \n",
       "2  As technology continues to develop and evolve,...   \n",
       "3                                                      \n",
       "4  Doha, Qatar (CNN) — On the eve of the 2022 Wor...   \n",
       "\n",
       "                                            output_1  \\\n",
       "0  To access the default browser settings on a co...   \n",
       "1                The third element of the list is 3.   \n",
       "2  The main argument being made is that technolog...   \n",
       "3  The purpose of writing a press release is to d...   \n",
       "4  The main message that FIFA President Gianni In...   \n",
       "\n",
       "                                            output_2  preference  \n",
       "0  In the Google Chrome browser, the default sett...           2  \n",
       "1                                                  3           2  \n",
       "2  The main argument being made is that technolog...           2  \n",
       "3  The purpose of writing a press release is to c...           2  \n",
       "4  The main message that FIFA President Gianni In...           2  "
      ]
     },
     "execution_count": 14,
     "metadata": {},
     "output_type": "execute_result"
    }
   ],
   "source": [
    "df.head()"
   ]
  },
  {
   "cell_type": "markdown",
   "id": "6ca2cbf7",
   "metadata": {},
   "source": [
    "# Create Questions JSONL: (sff_questions.jsonl)"
   ]
  },
  {
   "cell_type": "code",
   "execution_count": 124,
   "id": "7df9df4a",
   "metadata": {},
   "outputs": [
    {
     "data": {
      "text/html": [
       "<div>\n",
       "<style scoped>\n",
       "    .dataframe tbody tr th:only-of-type {\n",
       "        vertical-align: middle;\n",
       "    }\n",
       "\n",
       "    .dataframe tbody tr th {\n",
       "        vertical-align: top;\n",
       "    }\n",
       "\n",
       "    .dataframe thead th {\n",
       "        text-align: right;\n",
       "    }\n",
       "</style>\n",
       "<table border=\"1\" class=\"dataframe\">\n",
       "  <thead>\n",
       "    <tr style=\"text-align: right;\">\n",
       "      <th></th>\n",
       "      <th>question_id</th>\n",
       "      <th>category</th>\n",
       "      <th>turns</th>\n",
       "    </tr>\n",
       "  </thead>\n",
       "  <tbody>\n",
       "    <tr>\n",
       "      <th>0</th>\n",
       "      <td>0</td>\n",
       "      <td>summary</td>\n",
       "      <td>SUBREDDIT: relationships TITLE: Mother [51] no...</td>\n",
       "    </tr>\n",
       "    <tr>\n",
       "      <th>1</th>\n",
       "      <td>1</td>\n",
       "      <td>summary</td>\n",
       "      <td>SUBREDDIT: relationships TITLE: Mother [51] no...</td>\n",
       "    </tr>\n",
       "    <tr>\n",
       "      <th>2</th>\n",
       "      <td>2</td>\n",
       "      <td>summary</td>\n",
       "      <td>SUBREDDIT: relationships TITLE: Mother [51] no...</td>\n",
       "    </tr>\n",
       "    <tr>\n",
       "      <th>3</th>\n",
       "      <td>3</td>\n",
       "      <td>summary</td>\n",
       "      <td>SUBREDDIT: relationships TITLE: Mother [51] no...</td>\n",
       "    </tr>\n",
       "    <tr>\n",
       "      <th>4</th>\n",
       "      <td>4</td>\n",
       "      <td>summary</td>\n",
       "      <td>SUBREDDIT: AskReddit TITLE: Can I sue my prope...</td>\n",
       "    </tr>\n",
       "  </tbody>\n",
       "</table>\n",
       "</div>"
      ],
      "text/plain": [
       "   question_id category                                              turns\n",
       "0            0  summary  SUBREDDIT: relationships TITLE: Mother [51] no...\n",
       "1            1  summary  SUBREDDIT: relationships TITLE: Mother [51] no...\n",
       "2            2  summary  SUBREDDIT: relationships TITLE: Mother [51] no...\n",
       "3            3  summary  SUBREDDIT: relationships TITLE: Mother [51] no...\n",
       "4            4  summary  SUBREDDIT: AskReddit TITLE: Can I sue my prope..."
      ]
     },
     "execution_count": 124,
     "metadata": {},
     "output_type": "execute_result"
    }
   ],
   "source": [
    "questions = df[['question_id', 'category', 'turns']].copy()\n",
    "questions.head()"
   ]
  },
  {
   "cell_type": "code",
   "execution_count": 125,
   "id": "23d5473e",
   "metadata": {},
   "outputs": [],
   "source": [
    "questions['turns'] = 'Given the context of the specified subreddit and title, summarize the post. ' + questions['turns']\n",
    "questions['turns'] = questions['turns'].apply(lambda x: [x])"
   ]
  },
  {
   "cell_type": "code",
   "execution_count": 130,
   "id": "a9ab887c",
   "metadata": {},
   "outputs": [],
   "source": [
    "q_json = questions.to_json(orient='records')\n",
    "#q_json"
   ]
  },
  {
   "cell_type": "code",
   "execution_count": 134,
   "id": "7ba2e7e5",
   "metadata": {},
   "outputs": [],
   "source": [
    "import json\n",
    "with open(\"sff_test.jsonl\", \"w\") as file:\n",
    "    for item in questions.to_dict('records'):\n",
    "        json_line = json.dumps(item)\n",
    "        file.write(json_line + '\\n')"
   ]
  }
 ],
 "metadata": {
  "kernelspec": {
   "display_name": "Python 3 (ipykernel)",
   "language": "python",
   "name": "python3"
  },
  "language_info": {
   "codemirror_mode": {
    "name": "ipython",
    "version": 3
   },
   "file_extension": ".py",
   "mimetype": "text/x-python",
   "name": "python",
   "nbconvert_exporter": "python",
   "pygments_lexer": "ipython3",
   "version": "3.11.5"
  }
 },
 "nbformat": 4,
 "nbformat_minor": 5
}
