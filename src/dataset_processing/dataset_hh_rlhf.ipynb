{
 "cells": [
  {
   "cell_type": "markdown",
   "id": "122360b1",
   "metadata": {},
   "source": [
    "# Dataset Anthropic HH-RLHF\n",
    "\n",
    "Take care of all the data cleaning to get the formatting to follow MT-Bench standards."
   ]
  },
  {
   "cell_type": "code",
   "execution_count": 33,
   "id": "8ad44ff6",
   "metadata": {},
   "outputs": [],
   "source": [
    "import pandas as pd\n",
    "import random\n",
    "import plotly as ply\n",
    "import numpy as np\n",
    "import re\n",
    "import os\n",
    "from tqdm import tqdm\n",
    "import pickle"
   ]
  },
  {
   "cell_type": "code",
   "execution_count": 23,
   "id": "6905567b",
   "metadata": {},
   "outputs": [],
   "source": [
    "from datasets import load_dataset, load_dataset_builder"
   ]
  },
  {
   "cell_type": "code",
   "execution_count": 24,
   "id": "a9b5071c",
   "metadata": {},
   "outputs": [],
   "source": [
    "ds_builder = load_dataset_builder(\"anthropic/hh-rlhf\")"
   ]
  },
  {
   "cell_type": "code",
   "execution_count": 25,
   "id": "bab1798f",
   "metadata": {},
   "outputs": [
    {
     "data": {
      "text/plain": [
       "''"
      ]
     },
     "execution_count": 25,
     "metadata": {},
     "output_type": "execute_result"
    }
   ],
   "source": [
    "ds_builder.info.description"
   ]
  },
  {
   "cell_type": "code",
   "execution_count": 26,
   "id": "83b8abc2",
   "metadata": {},
   "outputs": [
    {
     "data": {
      "text/plain": [
       "{'chosen': Value(dtype='string', id=None),\n",
       " 'rejected': Value(dtype='string', id=None)}"
      ]
     },
     "execution_count": 26,
     "metadata": {},
     "output_type": "execute_result"
    }
   ],
   "source": [
    "ds_builder.info.features"
   ]
  },
  {
   "cell_type": "code",
   "execution_count": 27,
   "id": "a93b6392",
   "metadata": {},
   "outputs": [
    {
     "name": "stderr",
     "output_type": "stream",
     "text": [
      "Found cached dataset json (/Users/johnwang/.cache/huggingface/datasets/anthropic___json/anthropic--hh-rlhf-a9fdd36e8b50b8fa/0.0.0/e347ab1c932092252e717ff3f949105a4dd28b27e842dd53157d2f72e276c2e4)\n"
     ]
    }
   ],
   "source": [
    "train_data = load_dataset(\"anthropic/hh-rlhf\", split ='train[0:5000]')"
   ]
  },
  {
   "cell_type": "code",
   "execution_count": 28,
   "id": "6f34c70c",
   "metadata": {},
   "outputs": [
    {
     "data": {
      "text/plain": [
       "Dataset({\n",
       "    features: ['chosen', 'rejected'],\n",
       "    num_rows: 5000\n",
       "})"
      ]
     },
     "execution_count": 28,
     "metadata": {},
     "output_type": "execute_result"
    }
   ],
   "source": [
    "train_data"
   ]
  },
  {
   "cell_type": "code",
   "execution_count": 29,
   "id": "22713101",
   "metadata": {},
   "outputs": [],
   "source": [
    "df = train_data.to_pandas()"
   ]
  },
  {
   "cell_type": "code",
   "execution_count": 30,
   "id": "efb1db40",
   "metadata": {},
   "outputs": [
    {
     "data": {
      "text/plain": [
       "(5000, 2)"
      ]
     },
     "execution_count": 30,
     "metadata": {},
     "output_type": "execute_result"
    }
   ],
   "source": [
    "df.shape"
   ]
  },
  {
   "cell_type": "code",
   "execution_count": 36,
   "id": "fc5f7782",
   "metadata": {
    "scrolled": true
   },
   "outputs": [],
   "source": [
    "# Combine 'chosen' and 'rejected' into a new column\n",
    "df['combined'] = df.apply(lambda row: random.sample([row['chosen'], row['rejected']], 2), axis=1)\n",
    "\n",
    "# Create a column to track the index of the 'chosen' string\n",
    "df['chosen_index'] = df.apply(lambda row: 0 if row['chosen'] == row['combined'][0] else 1, axis=1)\n",
    "\n",
    "# Reorder columns for better clarity\n",
    "df = df[['combined', 'chosen_index']]"
   ]
  },
  {
   "cell_type": "code",
   "execution_count": 39,
   "id": "e8e6fef1",
   "metadata": {},
   "outputs": [],
   "source": [
    "df = df.rename(columns={'combined':'conversations', 'chosen_index':'preference'})"
   ]
  },
  {
   "cell_type": "markdown",
   "id": "6ca2cbf7",
   "metadata": {},
   "source": [
    "# Create Human-Labeled Data JSONL: (hh_ldata.jsonl)"
   ]
  },
  {
   "cell_type": "code",
   "execution_count": 134,
   "id": "7ba2e7e5",
   "metadata": {},
   "outputs": [],
   "source": [
    "import json\n",
    "with open(\"hh_human_labels.jsonl\", \"w\") as file:\n",
    "    for item in df.to_dict('records'):\n",
    "        json_line = json.dumps(item)\n",
    "        file.write(json_line + '\\n')"
   ]
  },
  {
   "cell_type": "markdown",
   "id": "86a5c8f0",
   "metadata": {},
   "source": [
    "# Create Prompt-Ready Data JSONL: (hh_questions.jsonl)"
   ]
  },
  {
   "cell_type": "code",
   "execution_count": 40,
   "id": "f78d1b67",
   "metadata": {},
   "outputs": [],
   "source": [
    "questions = df.copy()\n",
    "questions = questions.drop('preference', axis='columns')"
   ]
  },
  {
   "cell_type": "code",
   "execution_count": null,
   "id": "a0142f69",
   "metadata": {},
   "outputs": [],
   "source": [
    "import json\n",
    "with open(\"hh_questions.jsonl\", \"w\") as file:\n",
    "    for item in questions.to_dict('records'):\n",
    "        json_line = json.dumps(item)\n",
    "        file.write(json_line + '\\n')"
   ]
  }
 ],
 "metadata": {
  "kernelspec": {
   "display_name": "Python 3 (ipykernel)",
   "language": "python",
   "name": "python3"
  },
  "language_info": {
   "codemirror_mode": {
    "name": "ipython",
    "version": 3
   },
   "file_extension": ".py",
   "mimetype": "text/x-python",
   "name": "python",
   "nbconvert_exporter": "python",
   "pygments_lexer": "ipython3",
   "version": "3.11.5"
  }
 },
 "nbformat": 4,
 "nbformat_minor": 5
}
